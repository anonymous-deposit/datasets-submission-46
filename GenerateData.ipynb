{
 "cells": [
  {
   "cell_type": "code",
   "execution_count": 1,
   "id": "initial_id",
   "metadata": {
    "collapsed": true,
    "ExecuteTime": {
     "end_time": "2024-06-15T10:40:09.534887158Z",
     "start_time": "2024-06-15T10:40:09.298768648Z"
    }
   },
   "outputs": [],
   "source": [
    "import pandas as pd\n",
    "import numpy as np\n",
    "import sqlite3\n",
    "import re\n",
    "import json\n",
    "import tldextract\n",
    "\n",
    "import warnings\n",
    "warnings.filterwarnings(\"ignore\")"
   ]
  },
  {
   "cell_type": "markdown",
   "source": [
    "Some Variable Used for the analysis "
   ],
   "metadata": {
    "collapsed": false
   },
   "id": "861c40174ccba894"
  },
  {
   "cell_type": "code",
   "execution_count": 2,
   "outputs": [],
   "source": [
    "domain_name_associated_features = {\n",
    "    \"email-sender-1.example\": {\"label\":\"F4\", \"verbose\": \"RUA within the organizational domain\"},\n",
    "    \"email-sender-2.example\": {\"label\":\"F6\", \"verbose\": \"RUA outside the organizational domain. EDV passes\"},\n",
    "    \"email-sender-3.example\": {\"label\":\"F7\", \"verbose\": \"RUA outside the organizational domain. EDV fails.\"},\n",
    "    \"email-sender-4.example\": {\"label\":\"F8\", \"verbose\": \"RUA outside the organizational domain. EDV passes. Records contain new RUA\"}\n",
    "}\n",
    "\n",
    "label_to_domain_name = {\n",
    "    'F4': 'email-sender-1.example', \n",
    "    'F6': 'email-sender-2.example', \n",
    "    'F7': 'email-sender-3.example', \n",
    "    'F8': 'email-sender-4.example',\n",
    "    'EDV_DOMAIN': 'email-sender-4.example',\n",
    "    'EDV_RECEIVER' : \"email-receiver-overwrite.example\"\n",
    "}\n",
    "\n",
    "\n",
    "esp_subdomains = ['163com', 'inboxlv', 'control-domainexample', 'rediffcom', 'gmailcom', 'outlookcom', 'tutanotacom', 'fastmailcom', 'mailcom', 'heycom', 'gmxnet', 'yahoocom', 'oppl', 'mailfencecom', 'protonmailcom', 'interiapl', 'kolabnowcom', 'freemailhu', 'seznamcz', 'yandexcom', 'orangefr', 'lapostenet', 'navercom', 'zohomaileu', 'mailru', 'sapopt']\n",
    "\n",
    "\n",
    "\n",
    "measurements_label = ['F7', 'F6', 'F4', 'F8']"
   ],
   "metadata": {
    "collapsed": false,
    "ExecuteTime": {
     "end_time": "2024-06-15T10:40:09.537419085Z",
     "start_time": "2024-06-15T10:40:09.534776248Z"
    }
   },
   "id": "40c4a80e3ee29a06"
  },
  {
   "cell_type": "markdown",
   "source": [
    "# Extracting data from Rspamd Logs\n",
    "Rspamd logs contains data about sent and receive email using the Mailcow suite\n"
   ],
   "metadata": {
    "collapsed": false
   },
   "id": "b65c243fae935fc6"
  },
  {
   "cell_type": "code",
   "execution_count": 3,
   "outputs": [
    {
     "data": {
      "text/plain": "     unix_time                                         message-id  time_real  \\\n12  1695652404  169565240353.19703.10350902303625113444@zohoma...   0.067680   \n13  1695652403  169565240294.19703.4884400885574083640@yandexc...   0.119373   \n14  1695652402  169565240223.19703.11347189817033946450@yahooc...   0.081694   \n15  1695652402  169565240171.19703.12718450990756192606@seznam...   0.073125   \n16  1695652401  169565240111.19703.12802847786866253162@sapopt...   0.064959   \n\n                                 sender_smtp  \\\n12  badrua@zohomaileu.email-sender-3.example   \n13   badrua@yandexcom.email-sender-3.example   \n14    badrua@yahoocom.email-sender-3.example   \n15    badrua@seznamcz.email-sender-3.example   \n16      badrua@sapopt.email-sender-3.example   \n\n                                 sender_mime                      rcpt_smtp  \\\n12  badrua@zohomaileu.email-sender-3.example  [anonymized_user@zohomail.eu]   \n13   badrua@yandexcom.email-sender-3.example   [anonymized_user@yandex.com]   \n14    badrua@yahoocom.email-sender-3.example    [anonymized_user@yahoo.com]   \n15    badrua@seznamcz.email-sender-3.example    [anonymized_user@seznam.cz]   \n16      badrua@sapopt.email-sender-3.example      [anonymized_user@sapo.pt]   \n\n                        rcpt_mime     action  \\\n12  [anonymized_user@zohomail.eu]  no action   \n13   [anonymized_user@yandex.com]  no action   \n14    [anonymized_user@yahoo.com]  no action   \n15    [anonymized_user@seznam.cz]  no action   \n16      [anonymized_user@sapo.pt]  no action   \n\n                                     ip  \\\n12  2001:660:5301:24:2be:43ff:fe2b:1978   \n13  2001:660:5301:24:2be:43ff:fe2b:1978   \n14  2001:660:5301:24:2be:43ff:fe2b:1978   \n15  2001:660:5301:24:2be:43ff:fe2b:1978   \n16  2001:660:5301:24:2be:43ff:fe2b:1978   \n\n                                              symbols  ...  \\\n12  {'TO_MATCH_ENVRCPT_ALL': {'metric_score': 0, '...  ...   \n13  {'TO_MATCH_ENVRCPT_ALL': {'metric_score': 0, '...  ...   \n14  {'TO_MATCH_ENVRCPT_ALL': {'metric_score': 0, '...  ...   \n15  {'TO_MATCH_ENVRCPT_ALL': {'metric_score': 0, '...  ...   \n16  {'TO_MATCH_ENVRCPT_ALL': {'metric_score': 0, '...  ...   \n\n                                      user  size is_skipped  required_score  \\\n12  anonymized_user@email-sender-3.example  2051      False              15   \n13  anonymized_user@email-sender-3.example  1814      False              15   \n14  anonymized_user@email-sender-3.example  2342      False              15   \n15  anonymized_user@email-sender-3.example  1915      False              15   \n16  anonymized_user@email-sender-3.example  1745      False              15   \n\n    aligned_spf  aligned_dkim measurement_features_label  \\\n12        False         False                         F7   \n13        False         False                         F7   \n14        False         False                         F7   \n15        False         False                         F7   \n16        False         False                         F7   \n\n                         measurement_features_verbose targeted_esp  \\\n12  RUA outside the organizational domain. EDV fails.   zohomaileu   \n13  RUA outside the organizational domain. EDV fails.    yandexcom   \n14  RUA outside the organizational domain. EDV fails.     yahoocom   \n15  RUA outside the organizational domain. EDV fails.     seznamcz   \n16  RUA outside the organizational domain. EDV fails.       sapopt   \n\n   email_sent_to  \n12   zohomail.eu  \n13    yandex.com  \n14     yahoo.com  \n15     seznam.cz  \n16       sapo.pt  \n\n[5 rows x 22 columns]",
      "text/html": "<div>\n<style scoped>\n    .dataframe tbody tr th:only-of-type {\n        vertical-align: middle;\n    }\n\n    .dataframe tbody tr th {\n        vertical-align: top;\n    }\n\n    .dataframe thead th {\n        text-align: right;\n    }\n</style>\n<table border=\"1\" class=\"dataframe\">\n  <thead>\n    <tr style=\"text-align: right;\">\n      <th></th>\n      <th>unix_time</th>\n      <th>message-id</th>\n      <th>time_real</th>\n      <th>sender_smtp</th>\n      <th>sender_mime</th>\n      <th>rcpt_smtp</th>\n      <th>rcpt_mime</th>\n      <th>action</th>\n      <th>ip</th>\n      <th>symbols</th>\n      <th>...</th>\n      <th>user</th>\n      <th>size</th>\n      <th>is_skipped</th>\n      <th>required_score</th>\n      <th>aligned_spf</th>\n      <th>aligned_dkim</th>\n      <th>measurement_features_label</th>\n      <th>measurement_features_verbose</th>\n      <th>targeted_esp</th>\n      <th>email_sent_to</th>\n    </tr>\n  </thead>\n  <tbody>\n    <tr>\n      <th>12</th>\n      <td>1695652404</td>\n      <td>169565240353.19703.10350902303625113444@zohoma...</td>\n      <td>0.067680</td>\n      <td>badrua@zohomaileu.email-sender-3.example</td>\n      <td>badrua@zohomaileu.email-sender-3.example</td>\n      <td>[anonymized_user@zohomail.eu]</td>\n      <td>[anonymized_user@zohomail.eu]</td>\n      <td>no action</td>\n      <td>2001:660:5301:24:2be:43ff:fe2b:1978</td>\n      <td>{'TO_MATCH_ENVRCPT_ALL': {'metric_score': 0, '...</td>\n      <td>...</td>\n      <td>anonymized_user@email-sender-3.example</td>\n      <td>2051</td>\n      <td>False</td>\n      <td>15</td>\n      <td>False</td>\n      <td>False</td>\n      <td>F7</td>\n      <td>RUA outside the organizational domain. EDV fails.</td>\n      <td>zohomaileu</td>\n      <td>zohomail.eu</td>\n    </tr>\n    <tr>\n      <th>13</th>\n      <td>1695652403</td>\n      <td>169565240294.19703.4884400885574083640@yandexc...</td>\n      <td>0.119373</td>\n      <td>badrua@yandexcom.email-sender-3.example</td>\n      <td>badrua@yandexcom.email-sender-3.example</td>\n      <td>[anonymized_user@yandex.com]</td>\n      <td>[anonymized_user@yandex.com]</td>\n      <td>no action</td>\n      <td>2001:660:5301:24:2be:43ff:fe2b:1978</td>\n      <td>{'TO_MATCH_ENVRCPT_ALL': {'metric_score': 0, '...</td>\n      <td>...</td>\n      <td>anonymized_user@email-sender-3.example</td>\n      <td>1814</td>\n      <td>False</td>\n      <td>15</td>\n      <td>False</td>\n      <td>False</td>\n      <td>F7</td>\n      <td>RUA outside the organizational domain. EDV fails.</td>\n      <td>yandexcom</td>\n      <td>yandex.com</td>\n    </tr>\n    <tr>\n      <th>14</th>\n      <td>1695652402</td>\n      <td>169565240223.19703.11347189817033946450@yahooc...</td>\n      <td>0.081694</td>\n      <td>badrua@yahoocom.email-sender-3.example</td>\n      <td>badrua@yahoocom.email-sender-3.example</td>\n      <td>[anonymized_user@yahoo.com]</td>\n      <td>[anonymized_user@yahoo.com]</td>\n      <td>no action</td>\n      <td>2001:660:5301:24:2be:43ff:fe2b:1978</td>\n      <td>{'TO_MATCH_ENVRCPT_ALL': {'metric_score': 0, '...</td>\n      <td>...</td>\n      <td>anonymized_user@email-sender-3.example</td>\n      <td>2342</td>\n      <td>False</td>\n      <td>15</td>\n      <td>False</td>\n      <td>False</td>\n      <td>F7</td>\n      <td>RUA outside the organizational domain. EDV fails.</td>\n      <td>yahoocom</td>\n      <td>yahoo.com</td>\n    </tr>\n    <tr>\n      <th>15</th>\n      <td>1695652402</td>\n      <td>169565240171.19703.12718450990756192606@seznam...</td>\n      <td>0.073125</td>\n      <td>badrua@seznamcz.email-sender-3.example</td>\n      <td>badrua@seznamcz.email-sender-3.example</td>\n      <td>[anonymized_user@seznam.cz]</td>\n      <td>[anonymized_user@seznam.cz]</td>\n      <td>no action</td>\n      <td>2001:660:5301:24:2be:43ff:fe2b:1978</td>\n      <td>{'TO_MATCH_ENVRCPT_ALL': {'metric_score': 0, '...</td>\n      <td>...</td>\n      <td>anonymized_user@email-sender-3.example</td>\n      <td>1915</td>\n      <td>False</td>\n      <td>15</td>\n      <td>False</td>\n      <td>False</td>\n      <td>F7</td>\n      <td>RUA outside the organizational domain. EDV fails.</td>\n      <td>seznamcz</td>\n      <td>seznam.cz</td>\n    </tr>\n    <tr>\n      <th>16</th>\n      <td>1695652401</td>\n      <td>169565240111.19703.12802847786866253162@sapopt...</td>\n      <td>0.064959</td>\n      <td>badrua@sapopt.email-sender-3.example</td>\n      <td>badrua@sapopt.email-sender-3.example</td>\n      <td>[anonymized_user@sapo.pt]</td>\n      <td>[anonymized_user@sapo.pt]</td>\n      <td>no action</td>\n      <td>2001:660:5301:24:2be:43ff:fe2b:1978</td>\n      <td>{'TO_MATCH_ENVRCPT_ALL': {'metric_score': 0, '...</td>\n      <td>...</td>\n      <td>anonymized_user@email-sender-3.example</td>\n      <td>1745</td>\n      <td>False</td>\n      <td>15</td>\n      <td>False</td>\n      <td>False</td>\n      <td>F7</td>\n      <td>RUA outside the organizational domain. EDV fails.</td>\n      <td>sapopt</td>\n      <td>sapo.pt</td>\n    </tr>\n  </tbody>\n</table>\n<p>5 rows × 22 columns</p>\n</div>"
     },
     "execution_count": 3,
     "metadata": {},
     "output_type": "execute_result"
    }
   ],
   "source": [
    "def extract_feature_from_sender_smtp(smtp_sender)->str:\n",
    "    domain = \".\".join(smtp_sender.split(\".\")[1:])\n",
    "    feature = domain_name_associated_features.get(domain, {})\n",
    "    return feature\n",
    "\n",
    "def extract_target_esp_from_sender_smtp(smtp_sender)->str:\n",
    "    return smtp_sender.split(\"@\")[1].split(\".\")[0]\n",
    "\n",
    "def extract_spf_alignement_info(smtp_sender)->bool:\n",
    "    return True if smtp_sender[:8] == \"goodrua@\" else (False if smtp_sender[:7] == \"badrua@\" else None)\n",
    "\n",
    "def extract_dkim_alignement_info(symbols)->bool:\n",
    "    rspamd = symbols.get(\"DKIM_SIGNED\", {}).get(\"options\", None)\n",
    "    return None if rspamd is None else not \"dkimfalse\" in rspamd[0]\n",
    "\n",
    "def extract_fqdn_sendto(email_address:str)->str:\n",
    "    fqdn = tldextract.extract(email_address).fqdn \n",
    "    \n",
    "    # tldextract does not recognize .example TLD as defined in RFC 2606\n",
    "    # https://www.rfc-editor.org/rfc/rfc2606.html#section-2\n",
    "    if fqdn == \"\" and email_address == \"testESP@control-domain.example\":\n",
    "        fqdn = \"control-domain.example\"\n",
    "        \n",
    "    return fqdn\n",
    "\n",
    "with open(\"datasets/Rspamd/logs.json\", 'r') as fp:\n",
    "    df = pd.DataFrame([json.loads(line) for line in fp.readlines()])\n",
    "    \n",
    "df[\"aligned_spf\"] = df['sender_smtp'].apply(lambda x:  extract_spf_alignement_info(x))\n",
    "df[\"aligned_dkim\"] = df[\"symbols\"].apply(lambda x: extract_dkim_alignement_info(x))\n",
    "\n",
    "df = df[df[\"aligned_spf\"].notna()]\n",
    "df[\"measurement_features_label\"] = df['sender_smtp'].apply(lambda x:extract_feature_from_sender_smtp(x).get(\"label\"))\n",
    "df[\"measurement_features_verbose\"] = df['sender_smtp'].apply(lambda x:extract_feature_from_sender_smtp(x).get(\"verbose\"))\n",
    "df[\"targeted_esp\"] = df['sender_smtp'].apply(lambda x:extract_target_esp_from_sender_smtp(x))\n",
    "df[\"email_sent_to\"] = df['rcpt_smtp'].apply(lambda x:  extract_fqdn_sendto(x[0]) )\n",
    "\n",
    "\n",
    "# Generad .csv file from the dataset for Table creation\n",
    "# Removed the test domain for results \n",
    "df.to_csv(\"generated/rspamd.csv\", index=False)\n",
    "\n",
    "\n",
    "df.head()"
   ],
   "metadata": {
    "collapsed": false,
    "ExecuteTime": {
     "end_time": "2024-06-15T10:40:09.677168903Z",
     "start_time": "2024-06-15T10:40:09.537508969Z"
    }
   },
   "id": "29aa3aa7a5b6b781"
  },
  {
   "cell_type": "markdown",
   "source": [
    "# Extracting data from the Bind log file.\n",
    "The file contains the domain names and resource record querried to our authoritative nameserver.\n",
    "We first extract the data from this file and create an .sqlite3 database storing the following data : \"TIME\", \"IP_SOURCE\", \"PORT_SOURCE\", \"query\", \"TYPE\"\n",
    "Using the sqlite database we can build the 'generated/bind_results.csv' file containing the informations for the .tex table generation.\n",
    "\n"
   ],
   "metadata": {
    "collapsed": false
   },
   "id": "bb28a58cc3b9d80c"
  },
  {
   "cell_type": "code",
   "execution_count": 4,
   "outputs": [
    {
     "data": {
      "text/plain": "                      ESP  SPF_txt  SPF_exsit  DKIM_txt  DMARC_txt  \\\n0                  163com     True      False      True       True   \n1                 inboxlv     True       True      True       True   \n2   control-domainexample     True       True      True       True   \n3               rediffcom     True       True      True       True   \n4                gmailcom     True       True      True       True   \n5              outlookcom     True       True      True       True   \n6             tutanotacom     True       True      True       True   \n7             fastmailcom     True       True      True       True   \n8                 mailcom     True       True      True       True   \n9                  heycom     True       True      True       True   \n10                 gmxnet     True       True      True       True   \n11               yahoocom     True       True      True       True   \n12                   oppl     True       True      True       True   \n13           mailfencecom     True       True      True       True   \n14          protonmailcom     True       True      True       True   \n15              interiapl     True       True      True       True   \n16            kolabnowcom     True       True      True      False   \n17             freemailhu    False      False     False      False   \n18               seznamcz     True       True      True       True   \n19              yandexcom     True      False      True       True   \n20               orangefr     True       True      True       True   \n21             lapostenet     True       True      True       True   \n22               navercom     True       True      True       True   \n23             zohomaileu     True       True      True       True   \n24                 mailru     True       True      True       True   \n25                 sapopt     True       True      True       True   \n\n    EDV_process  \n0         False  \n1         False  \n2         False  \n3         False  \n4         False  \n5         False  \n6         False  \n7          True  \n8         False  \n9         False  \n10        False  \n11         True  \n12         True  \n13        False  \n14        False  \n15        False  \n16        False  \n17        False  \n18        False  \n19        False  \n20        False  \n21         True  \n22        False  \n23        False  \n24         True  \n25        False  ",
      "text/html": "<div>\n<style scoped>\n    .dataframe tbody tr th:only-of-type {\n        vertical-align: middle;\n    }\n\n    .dataframe tbody tr th {\n        vertical-align: top;\n    }\n\n    .dataframe thead th {\n        text-align: right;\n    }\n</style>\n<table border=\"1\" class=\"dataframe\">\n  <thead>\n    <tr style=\"text-align: right;\">\n      <th></th>\n      <th>ESP</th>\n      <th>SPF_txt</th>\n      <th>SPF_exsit</th>\n      <th>DKIM_txt</th>\n      <th>DMARC_txt</th>\n      <th>EDV_process</th>\n    </tr>\n  </thead>\n  <tbody>\n    <tr>\n      <th>0</th>\n      <td>163com</td>\n      <td>True</td>\n      <td>False</td>\n      <td>True</td>\n      <td>True</td>\n      <td>False</td>\n    </tr>\n    <tr>\n      <th>1</th>\n      <td>inboxlv</td>\n      <td>True</td>\n      <td>True</td>\n      <td>True</td>\n      <td>True</td>\n      <td>False</td>\n    </tr>\n    <tr>\n      <th>2</th>\n      <td>control-domainexample</td>\n      <td>True</td>\n      <td>True</td>\n      <td>True</td>\n      <td>True</td>\n      <td>False</td>\n    </tr>\n    <tr>\n      <th>3</th>\n      <td>rediffcom</td>\n      <td>True</td>\n      <td>True</td>\n      <td>True</td>\n      <td>True</td>\n      <td>False</td>\n    </tr>\n    <tr>\n      <th>4</th>\n      <td>gmailcom</td>\n      <td>True</td>\n      <td>True</td>\n      <td>True</td>\n      <td>True</td>\n      <td>False</td>\n    </tr>\n    <tr>\n      <th>5</th>\n      <td>outlookcom</td>\n      <td>True</td>\n      <td>True</td>\n      <td>True</td>\n      <td>True</td>\n      <td>False</td>\n    </tr>\n    <tr>\n      <th>6</th>\n      <td>tutanotacom</td>\n      <td>True</td>\n      <td>True</td>\n      <td>True</td>\n      <td>True</td>\n      <td>False</td>\n    </tr>\n    <tr>\n      <th>7</th>\n      <td>fastmailcom</td>\n      <td>True</td>\n      <td>True</td>\n      <td>True</td>\n      <td>True</td>\n      <td>True</td>\n    </tr>\n    <tr>\n      <th>8</th>\n      <td>mailcom</td>\n      <td>True</td>\n      <td>True</td>\n      <td>True</td>\n      <td>True</td>\n      <td>False</td>\n    </tr>\n    <tr>\n      <th>9</th>\n      <td>heycom</td>\n      <td>True</td>\n      <td>True</td>\n      <td>True</td>\n      <td>True</td>\n      <td>False</td>\n    </tr>\n    <tr>\n      <th>10</th>\n      <td>gmxnet</td>\n      <td>True</td>\n      <td>True</td>\n      <td>True</td>\n      <td>True</td>\n      <td>False</td>\n    </tr>\n    <tr>\n      <th>11</th>\n      <td>yahoocom</td>\n      <td>True</td>\n      <td>True</td>\n      <td>True</td>\n      <td>True</td>\n      <td>True</td>\n    </tr>\n    <tr>\n      <th>12</th>\n      <td>oppl</td>\n      <td>True</td>\n      <td>True</td>\n      <td>True</td>\n      <td>True</td>\n      <td>True</td>\n    </tr>\n    <tr>\n      <th>13</th>\n      <td>mailfencecom</td>\n      <td>True</td>\n      <td>True</td>\n      <td>True</td>\n      <td>True</td>\n      <td>False</td>\n    </tr>\n    <tr>\n      <th>14</th>\n      <td>protonmailcom</td>\n      <td>True</td>\n      <td>True</td>\n      <td>True</td>\n      <td>True</td>\n      <td>False</td>\n    </tr>\n    <tr>\n      <th>15</th>\n      <td>interiapl</td>\n      <td>True</td>\n      <td>True</td>\n      <td>True</td>\n      <td>True</td>\n      <td>False</td>\n    </tr>\n    <tr>\n      <th>16</th>\n      <td>kolabnowcom</td>\n      <td>True</td>\n      <td>True</td>\n      <td>True</td>\n      <td>False</td>\n      <td>False</td>\n    </tr>\n    <tr>\n      <th>17</th>\n      <td>freemailhu</td>\n      <td>False</td>\n      <td>False</td>\n      <td>False</td>\n      <td>False</td>\n      <td>False</td>\n    </tr>\n    <tr>\n      <th>18</th>\n      <td>seznamcz</td>\n      <td>True</td>\n      <td>True</td>\n      <td>True</td>\n      <td>True</td>\n      <td>False</td>\n    </tr>\n    <tr>\n      <th>19</th>\n      <td>yandexcom</td>\n      <td>True</td>\n      <td>False</td>\n      <td>True</td>\n      <td>True</td>\n      <td>False</td>\n    </tr>\n    <tr>\n      <th>20</th>\n      <td>orangefr</td>\n      <td>True</td>\n      <td>True</td>\n      <td>True</td>\n      <td>True</td>\n      <td>False</td>\n    </tr>\n    <tr>\n      <th>21</th>\n      <td>lapostenet</td>\n      <td>True</td>\n      <td>True</td>\n      <td>True</td>\n      <td>True</td>\n      <td>True</td>\n    </tr>\n    <tr>\n      <th>22</th>\n      <td>navercom</td>\n      <td>True</td>\n      <td>True</td>\n      <td>True</td>\n      <td>True</td>\n      <td>False</td>\n    </tr>\n    <tr>\n      <th>23</th>\n      <td>zohomaileu</td>\n      <td>True</td>\n      <td>True</td>\n      <td>True</td>\n      <td>True</td>\n      <td>False</td>\n    </tr>\n    <tr>\n      <th>24</th>\n      <td>mailru</td>\n      <td>True</td>\n      <td>True</td>\n      <td>True</td>\n      <td>True</td>\n      <td>True</td>\n    </tr>\n    <tr>\n      <th>25</th>\n      <td>sapopt</td>\n      <td>True</td>\n      <td>True</td>\n      <td>True</td>\n      <td>True</td>\n      <td>False</td>\n    </tr>\n  </tbody>\n</table>\n</div>"
     },
     "execution_count": 4,
     "metadata": {},
     "output_type": "execute_result"
    }
   ],
   "source": [
    "def create_and_populate_bind_database():\n",
    "\n",
    "    queries = []\n",
    "    \n",
    "    # Define a regular expression pattern to match BIND9 query log entries\n",
    "    #log_pattern = r'(\\d{4}-\\d{2}-\\d{2} \\d{2}:\\d{2}:\\d{2}) .*?client ([\\d.]+)#\\d+: query: ([\\w.-]+) (\\w+)'\n",
    "    log_pattern = '([0-9]{1,2}-[A-z]{1,3}-[0-9]{4} [0-9]{1,2}:[0-9]{1,2}:[0-9]{1,2}).*client @[^ ]+ ([^# ]+)#([0-9]+) .*query: (.*) (IN|in) ([^ ]+)'\n",
    "    \n",
    "    # Sample BIND9 query log entry\n",
    "    \n",
    "    # Use the regular expression pattern to parse the log entry\n",
    "    with open(\"datasets/DNS/query.log\", \"r\") as fp:\n",
    "        for line in fp.readlines():\n",
    "            match = re.match(log_pattern, line.lower())\n",
    "            try:\n",
    "                timestamp = match.group(1)\n",
    "                ip_source = match.group(2)\n",
    "                port_source = match.group(3)\n",
    "                query = match.group(4)\n",
    "                type = match.group(6).upper()\n",
    "                npa = np.array([timestamp, ip_source, port_source, query, type])\n",
    "                queries.append(npa)\n",
    "                \n",
    "            except Exception as e:\n",
    "                ok = False\n",
    "                for value_to_ignore in [\"hostname.bind\", \"version.bind\", \"id.server\", \"www.stage\"]:\n",
    "                    if value_to_ignore in line.lower():\n",
    "                        ok = True\n",
    "                if ok:\n",
    "                    continue\n",
    "                raise e\n",
    "            \n",
    "    df = pd.DataFrame(np.array(queries), columns=[\"TIME\", \"IP_SOURCE\", \"PORT_SOURCE\", \"query\", \"TYPE\"])\n",
    "    \n",
    "    \n",
    "    \n",
    "    conn = sqlite3.connect('generated/bind.sqlite')\n",
    "    df.to_sql('results', conn, if_exists='replace', index=False)\n",
    "    conn.close()\n",
    "    \n",
    "    return\n",
    "\n",
    "def is_there_spf_exist(domain):\n",
    "    conn = sqlite3.connect('generated/bind.sqlite')\n",
    "    cur = conn.cursor()\n",
    "    cur.execute(f'select distinct query, TYPE from results where query =  \"goodrua._spf.{domain}.{label_to_domain_name[\"F4\"].lower()}\";')\n",
    "    res = cur.fetchone() is not None\n",
    "    conn.close()\n",
    "    return res\n",
    "\n",
    "def is_there_spf_TXT(domain):\n",
    "    conn = sqlite3.connect('generated/bind.sqlite')\n",
    "    cur = conn.cursor()\n",
    "    cur.execute(f'select * from results where query = \"{domain}.{label_to_domain_name[\"F4\"].lower()}\" and TYPE = \"TXT\"')\n",
    "    res = cur.fetchone() is not None\n",
    "    conn.close()\n",
    "    return res\n",
    "\n",
    "def is_there_DKIM(domain):\n",
    "    conn = sqlite3.connect('generated/bind.sqlite')\n",
    "    cur = conn.cursor()\n",
    "    cur.execute(f' select distinct query, TYPE from results where query =  \"dkim._domainkey.{domain}.{label_to_domain_name[\"F4\"].lower()}\" and TYPE = \"TXT\";')\n",
    "    res = cur.fetchone() is not None\n",
    "    conn.close()\n",
    "    return res\n",
    "\n",
    "def is_there_DMARC(domain):\n",
    "    conn = sqlite3.connect('generated/bind.sqlite')\n",
    "    cur = conn.cursor()\n",
    "    cur.execute(f'select * from results where query = \"_dmarc.{domain}.{label_to_domain_name[\"F4\"].lower()}\" and TYPE = \"TXT\"')\n",
    "    res = cur.fetchone() is not None\n",
    "    conn.close()\n",
    "    return res\n",
    "\n",
    "def is_there_external_verif(domain):\n",
    "    conn = sqlite3.connect('generated/bind.sqlite')\n",
    "    cur = conn.cursor()\n",
    "    cur.execute(f'select * from results where query = \"{domain}.{label_to_domain_name[\"EDV_DOMAIN\"].lower()}._report._dmarc.{label_to_domain_name[\"EDV_RECEIVER\"].lower()}\"')\n",
    "    res = cur.fetchone() is not None\n",
    "    conn.close()\n",
    "    return res\n",
    "\n",
    "def bind_results_for_esp(esp):\n",
    "    return {\n",
    "        \"ESP\":esp,\n",
    "        \"SPF_txt\": is_there_spf_TXT(esp),\n",
    "        \"SPF_exsit\": is_there_spf_exist(esp),\n",
    "        \"DKIM_txt\": is_there_DKIM(esp),\n",
    "        \"DMARC_txt\": is_there_DMARC(esp),\n",
    "        \"EDV_process\":is_there_external_verif(esp)  \n",
    "    }\n",
    "\n",
    "\n",
    "create_and_populate_bind_database()\n",
    "df = pd.DataFrame([bind_results_for_esp(esp) for esp in esp_subdomains ])\n",
    "df.to_csv(\"generated/bind_results.csv\", index=False)\n",
    "\n",
    "df\n",
    "    "
   ],
   "metadata": {
    "collapsed": false,
    "ExecuteTime": {
     "end_time": "2024-06-15T10:40:09.897298577Z",
     "start_time": "2024-06-15T10:40:09.681551486Z"
    }
   },
   "id": "6cdc0f04dfe105ad"
  },
  {
   "cell_type": "markdown",
   "source": [
    "# Extract Information from Email Received in ESPs' mailbox\n",
    "\n",
    "This cell extract the authentication information from all the emails we have retrieved in the ESP's registerd account inbox."
   ],
   "metadata": {
    "collapsed": false
   },
   "id": "512adcc2a0a3aeb3"
  },
  {
   "cell_type": "code",
   "execution_count": 5,
   "outputs": [
    {
     "name": "stdout",
     "output_type": "stream",
     "text": [
      "{'lapostenet': ['bimi', 'dmarc', 'dkim', 'spf', 'arc'], 'tutanotacom': ['dmarc', 'dkim'], 'mailcom': ['dkim'], 'rediffcom': ['dmarc', 'dkim', 'spf'], 'heycom': ['dmarc', 'dkim', 'spf'], 'gmxnet': ['dkim'], 'mailfencecom': [], 'orangefr': ['dkim', 'arc'], 'freemailhu': [], 'kolabnowcom': ['dkim'], 'gmailcom': ['dmarc', 'dkim', 'spf'], 'yandexcom': ['dkim', 'spf'], 'navercom': ['dmarc', 'dkim', 'spf'], 'sapopt': [], 'seznamcz': [], 'inboxlv': ['dmarc', 'dkim', 'spf'], 'oppl': ['bimi', 'x-ptr', 'x-tls', 'iprev', 'dmarc', 'dkim', 'spf'], 'outlookcom': ['dmarc', 'dkim', 'spf'], 'mailru': ['dmarc', 'dkim', 'spf'], 'control-domainexample': ['dmarc', 'dkim', 'spf'], 'protonmailcom': ['arc', 'dmarc', 'dkim', 'spf'], 'yahoocom': ['dmarc', 'dkim', 'spf'], 'zohomaileu': ['dmarc', 'dkim', 'spf'], '163com': ['dkim', 'spf'], 'fastmailcom': ['x-csa', 'bimi', 'x-ptr', 'iprev', 'arc', 'dmarc', 'dkim', 'spf', 'x-me-sender'], 'interiapl': []}\n"
     ]
    }
   ],
   "source": [
    "from email import policy\n",
    "from email.parser import BytesParser\n",
    "import json\n",
    "import glob\n",
    "from authres import AuthenticationResultsHeader\n",
    "\n",
    "\n",
    "    \n",
    "def extract_email_info(email_path, esp):\n",
    "    with open(email_path, 'rb') as f:\n",
    "        email_rb = f.read()\n",
    "\n",
    "    msg = BytesParser(policy=policy.default).parsebytes(email_rb)\n",
    "    auth_info = set()\n",
    "  \n",
    "    for header_type in [\"Authentication-Results\", \"X-KLMS-AntiSpam-Auth\", \"X-DMARC-Verification\"]:   \n",
    "        for header in [x[1] for x in msg.items() if x[0] == header_type]:\n",
    "            full_headers = f'{header_type}:{header}'\n",
    "            auth_method = []\n",
    "            if header_type == \"Authentication-Results\":     \n",
    "                    # Microsoft is not respecting the RFC8601. The authserv-id is not provided\n",
    "                    # The issue has allready been reported \n",
    "                    # https://answers.microsoft.com/en-us/outlook_com/forum/all/authentication-results-header-written-by-outlook/890b304c-3c81-48b6-b065-36fad3b551e4                   \n",
    "                    if esp == \"outlookcom\": \n",
    "                        auth_method = ['spf', 'dmarc', 'dkim']       \n",
    "                    # Yahoo is not respecting the RFC8601 as there is an additional semi-column character at the end of the headers. Which is not allowed.\n",
    "                    # Thus, we remove the semi-column at the end\n",
    "                    elif esp == \"yahoocom\":\n",
    "                        parsed_auht_result = AuthenticationResultsHeader.parse(full_headers[:-1])\n",
    "                        auth_method = [result.method for result in parsed_auht_result.results]\n",
    "                    # 163 is not respecting the RFC8601 as the return \n",
    "                    # Thus, we remove the semi-column at the end\n",
    "                    elif esp == \"163com\":\n",
    "                        \n",
    "                        full_headers = full_headers.replace(\"\\n\", \"\").replace(\"\\t\", \"\")\n",
    "                        auth_method = auth_info.union(set([result.method for result in AuthenticationResultsHeader.parse(full_headers).results]))\n",
    "                    else:                        \n",
    "                        parsed_auth_result = AuthenticationResultsHeader.parse(full_headers)\n",
    "                        auth_method = [result.method for result in parsed_auth_result.results]\n",
    "  \n",
    "            elif header_type == \"Received-SPF\":\n",
    "                auth_method.append('spf')                \n",
    "            # inbox.lv does not have an Authentication-Results headers but \n",
    "            # a \"X-KLMS-AntiSpam-Auth\" that is very similar.\n",
    "            # We decided to add it manualy \n",
    "            # Same for rediff.com ! They do not have an Authentication-Results header\n",
    "            # but an X-DMARC-Verification:            \n",
    "            elif header_type == \"X-KLMS-AntiSpam-Auth\" or header_type == \"X-Spam-Status\" or header_type == \"X-DMARC-Verification\":               \n",
    "                for auth_protocol in [\"spf\", \"dkim\", \"dmarc\"]:\n",
    "                    if auth_protocol in header:\n",
    "                        auth_method.append(auth_protocol)\n",
    "            auth_info = auth_info.union(set(auth_method))            \n",
    "            \n",
    "    return (esp, list(auth_info), email_path)\n",
    "    \n",
    "result = [] \n",
    "\n",
    "\n",
    "for esp_folders in glob.glob(\"datasets/EmailReceived/*\"):\n",
    "    esp = esp_folders.split(\"/\")[-1]       \n",
    "    for email_path in glob.glob(f'{esp_folders}/*.eml'):\n",
    "        result.append(extract_email_info(email_path, esp))\n",
    "\n",
    "# Store all the information gathered\n",
    "with open(\"generated/parsed_email_in_esp_inbox.json\", 'w') as fp:\n",
    "    json.dump(result, fp)\n",
    "    \n",
    "# Produce the data for the Table Generation.\n",
    "# For each ESP, which informations are provided in the Authentication-Results header\n",
    "\n",
    "esp_auth_resuts_info = {}\n",
    "\n",
    "for r in result:\n",
    "    esp = r[0]\n",
    "    if esp not in esp_auth_resuts_info:\n",
    "        esp_auth_resuts_info[esp] = set(r[1])\n",
    "    diff_set = esp_auth_resuts_info[esp].difference(set(r[1]))\n",
    " \n",
    "    \n",
    "for k in esp_auth_resuts_info.keys():\n",
    "    esp_auth_resuts_info[k] = list(esp_auth_resuts_info[k])\n",
    "print(esp_auth_resuts_info)\n",
    "\n",
    "with open(\"generated/auth_info.json\", 'w') as fp :\n",
    "    json.dump(esp_auth_resuts_info, fp)"
   ],
   "metadata": {
    "collapsed": false,
    "ExecuteTime": {
     "end_time": "2024-06-15T10:40:11.438517357Z",
     "start_time": "2024-06-15T10:40:09.900600284Z"
    }
   },
   "id": "4eeeb3adf3019ffd"
  },
  {
   "cell_type": "markdown",
   "source": [
    "# Extract information for DMARC aggregate report received"
   ],
   "metadata": {
    "collapsed": false
   },
   "id": "4c2f584642135964"
  },
  {
   "cell_type": "code",
   "execution_count": 6,
   "outputs": [
    {
     "data": {
      "text/plain": "                                              subject  \\\n0   Report Domain: seznamcz.email-sender-3.example...   \n1   Report domain: control-domainexample.email-sen...   \n2   Report domain: gmailcom.email-sender-3.example...   \n3   Report Domain: outlookcom.email-sender-3.examp...   \n4   Report Domain: yahoocom.email-sender-2.example...   \n5   Report Domain: outlookcom.email-sender-1.examp...   \n6   Report domain: gmailcom.email-sender-1.example...   \n7   Report Domain: seznamcz.email-sender-1.example...   \n8   Report Domain: fastmailcom.email-sender-1.exam...   \n9   Report Domain: mailru.email-sender-1.example; ...   \n10  Report Domain: yahoocom.email-sender-1.example...   \n11  Report domain: gmailcom.email-sender-2.example...   \n12  Report Domain: yahoocom.email-sender-2.example...   \n13  Report Domain: fastmailcom.email-sender-2.exam...   \n14  Report Domain: seznamcz.email-sender-2.example...   \n15  Report Domain: mailru.email-sender-2.example; ...   \n16  Report Domain: email-sender-2.example Submitte...   \n17  Report Domain: outlookcom.email-sender-2.examp...   \n18  Report domain: gmailcom.email-sender-2.example...   \n19  Report Domain: fastmailcom.email-sender-4.exam...   \n20  Report Domain: seznamcz.email-sender-4.example...   \n21  Report domain: gmailcom.email-sender-4.example...   \n22  Report Domain: outlookcom.email-sender-4.examp...   \n23  Report Domain: yahoocom.email-sender-4.example...   \n24  Report Domain: mailru.email-sender-4.example; ...   \n\n                                   parsed_domain        parsed_submitter  \\\n0                seznamcz.email-sender-3.example               seznam.cz   \n1   control-domainexample.email-sender-3.example              google.com   \n2                gmailcom.email-sender-3.example              google.com   \n3              outlookcom.email-sender-3.example  protection.outlook.com   \n4                yahoocom.email-sender-2.example               yahoo.com   \n5              outlookcom.email-sender-1.example  protection.outlook.com   \n6                gmailcom.email-sender-1.example              google.com   \n7                seznamcz.email-sender-1.example               seznam.cz   \n8             fastmailcom.email-sender-1.example            fastmail.com   \n9                  mailru.email-sender-1.example                 mail.ru   \n10               yahoocom.email-sender-1.example               yahoo.com   \n11               gmailcom.email-sender-2.example              google.com   \n12               yahoocom.email-sender-2.example               yahoo.com   \n13            fastmailcom.email-sender-2.example            fastmail.com   \n14               seznamcz.email-sender-2.example               seznam.cz   \n15                 mailru.email-sender-2.example                 mail.ru   \n16                        email-sender-2.example               yahoo.com   \n17             outlookcom.email-sender-2.example  protection.outlook.com   \n18               gmailcom.email-sender-2.example              google.com   \n19            fastmailcom.email-sender-4.example            fastmail.com   \n20               seznamcz.email-sender-4.example               seznam.cz   \n21               gmailcom.email-sender-4.example              google.com   \n22             outlookcom.email-sender-4.example  protection.outlook.com   \n23               yahoocom.email-sender-4.example               yahoo.com   \n24                 mailru.email-sender-4.example                 mail.ru   \n\n                                  parsed_report_id  \\\n0   szn_seznamcz.email-sender-3.example-2023-09-25   \n1                             12320246433988280711   \n2                             13365075012726356696   \n3                 6cf08044894b4373817d086a63a527b8   \n4                              <1695691562.122520>   \n5                 99c8f8ef55e648718924195f0f2f3b41   \n6                             10338441280247014226   \n7   szn_seznamcz.email-sender-1.example-2023-09-25   \n8                             2023.09.25.983356728   \n9                    17381045686284013781695600000   \n10                               <1695690607.2868>   \n11                             6614913895802182513   \n12                             <1695691562.122520>   \n13                            2023.09.25.983376056   \n14  szn_seznamcz.email-sender-2.example-2023-09-25   \n15                   38065469610694679941695600000   \n16                             <1695689876.500509>   \n17                895073515d74482b9c17cac4965c237f   \n18                             6614913895802182513   \n19                            2023.09.25.983376368   \n20  szn_seznamcz.email-sender-4.example-2023-09-25   \n21                            10327855485683399229   \n22                763af27c9fee45ea8419779f7242d342   \n23                             <1695692135.724103>   \n24                   17258992469127586741695600000   \n\n                                               msg_to  \\\n0   anonymized_user@email-recevier-invalid-edv.exa...   \n1   anonymized_user@email-recevier-invalid-edv.exa...   \n2   anonymized_user@email-recevier-invalid-edv.exa...   \n3   anonymized_user@email-recevier-invalid-edv.exa...   \n4                          rua@control-domain.example   \n5               rua@outlookcom.email-sender-1.example   \n6                 rua@gmailcom.email-sender-1.example   \n7                 rua@seznamcz.email-sender-1.example   \n8              rua@fastmailcom.email-sender-1.example   \n9                   rua@mailru.email-sender-1.example   \n10                rua@yahoocom.email-sender-1.example   \n11                         rua@control-domain.example   \n12                         rua@control-domain.example   \n13                         rua@control-domain.example   \n14                         rua@control-domain.example   \n15                         rua@control-domain.example   \n16                    wrongRUA@control-domain.example   \n17                         rua@control-domain.example   \n18                         rua@control-domain.example   \n19    redirectionRUA@email-receiver-overwrite.example   \n20               rua@email-receiver-overwrite.example   \n21               rua@email-receiver-overwrite.example   \n22               rua@email-receiver-overwrite.example   \n23               rua@email-receiver-overwrite.example   \n24               rua@email-receiver-overwrite.example   \n\n                                             msg_from  \\\n0                       \"Seznam.cz\" <abuse@seznam.cz>   \n1                    noreply-dmarc-support@google.com   \n2                    noreply-dmarc-support@google.com   \n3   DMARC Aggregate Report <dmarcreport@microsoft....   \n4                             noreply@dmarc.yahoo.com   \n5   DMARC Aggregate Report <dmarcreport@microsoft....   \n6                    noreply-dmarc-support@google.com   \n7                       \"Seznam.cz\" <abuse@seznam.cz>   \n8                           reports@fastmaildmarc.com   \n9                          dmarc_support@corp.mail.ru   \n10                            noreply@dmarc.yahoo.com   \n11                   noreply-dmarc-support@google.com   \n12                            noreply@dmarc.yahoo.com   \n13                          reports@fastmaildmarc.com   \n14                      \"Seznam.cz\" <abuse@seznam.cz>   \n15                         dmarc_support@corp.mail.ru   \n16                            noreply@dmarc.yahoo.com   \n17  DMARC Aggregate Report <dmarcreport@microsoft....   \n18                   noreply-dmarc-support@google.com   \n19                          reports@fastmaildmarc.com   \n20                      \"Seznam.cz\" <abuse@seznam.cz>   \n21                   noreply-dmarc-support@google.com   \n22  DMARC Aggregate Report <dmarcreport@microsoft....   \n23                            noreply@dmarc.yahoo.com   \n24                         dmarc_support@corp.mail.ru   \n\n                        feature_domain       local_part     esp_label  \n0   email-recevier-invalid-edv.example  anonymized_user     seznam.cz  \n1   email-recevier-invalid-edv.example  anonymized_user     gmail.com  \n2   email-recevier-invalid-edv.example  anonymized_user     gmail.com  \n3   email-recevier-invalid-edv.example  anonymized_user   outlook.com  \n4   email-recevier-invalid-edv.example              rua     yahoo.com  \n5               email-sender-1.example              rua   outlook.com  \n6               email-sender-1.example              rua     gmail.com  \n7               email-sender-1.example              rua     seznam.cz  \n8               email-sender-1.example              rua  fastmail.com  \n9               email-sender-1.example              rua       mail.ru  \n10              email-sender-1.example              rua     yahoo.com  \n11              control-domain.example              rua     gmail.com  \n12              control-domain.example              rua     yahoo.com  \n13              control-domain.example              rua  fastmail.com  \n14              control-domain.example              rua     seznam.cz  \n15              control-domain.example              rua       mail.ru  \n16              control-domain.example         wrongRUA     yahoo.com  \n17              control-domain.example              rua   outlook.com  \n18              control-domain.example              rua     gmail.com  \n19    email-receiver-overwrite.example   redirectionRUA  fastmail.com  \n20    email-receiver-overwrite.example              rua     seznam.cz  \n21    email-receiver-overwrite.example              rua     gmail.com  \n22    email-receiver-overwrite.example              rua   outlook.com  \n23    email-receiver-overwrite.example              rua     yahoo.com  \n24    email-receiver-overwrite.example              rua       mail.ru  ",
      "text/html": "<div>\n<style scoped>\n    .dataframe tbody tr th:only-of-type {\n        vertical-align: middle;\n    }\n\n    .dataframe tbody tr th {\n        vertical-align: top;\n    }\n\n    .dataframe thead th {\n        text-align: right;\n    }\n</style>\n<table border=\"1\" class=\"dataframe\">\n  <thead>\n    <tr style=\"text-align: right;\">\n      <th></th>\n      <th>subject</th>\n      <th>parsed_domain</th>\n      <th>parsed_submitter</th>\n      <th>parsed_report_id</th>\n      <th>msg_to</th>\n      <th>msg_from</th>\n      <th>feature_domain</th>\n      <th>local_part</th>\n      <th>esp_label</th>\n    </tr>\n  </thead>\n  <tbody>\n    <tr>\n      <th>0</th>\n      <td>Report Domain: seznamcz.email-sender-3.example...</td>\n      <td>seznamcz.email-sender-3.example</td>\n      <td>seznam.cz</td>\n      <td>szn_seznamcz.email-sender-3.example-2023-09-25</td>\n      <td>anonymized_user@email-recevier-invalid-edv.exa...</td>\n      <td>\"Seznam.cz\" &lt;abuse@seznam.cz&gt;</td>\n      <td>email-recevier-invalid-edv.example</td>\n      <td>anonymized_user</td>\n      <td>seznam.cz</td>\n    </tr>\n    <tr>\n      <th>1</th>\n      <td>Report domain: control-domainexample.email-sen...</td>\n      <td>control-domainexample.email-sender-3.example</td>\n      <td>google.com</td>\n      <td>12320246433988280711</td>\n      <td>anonymized_user@email-recevier-invalid-edv.exa...</td>\n      <td>noreply-dmarc-support@google.com</td>\n      <td>email-recevier-invalid-edv.example</td>\n      <td>anonymized_user</td>\n      <td>gmail.com</td>\n    </tr>\n    <tr>\n      <th>2</th>\n      <td>Report domain: gmailcom.email-sender-3.example...</td>\n      <td>gmailcom.email-sender-3.example</td>\n      <td>google.com</td>\n      <td>13365075012726356696</td>\n      <td>anonymized_user@email-recevier-invalid-edv.exa...</td>\n      <td>noreply-dmarc-support@google.com</td>\n      <td>email-recevier-invalid-edv.example</td>\n      <td>anonymized_user</td>\n      <td>gmail.com</td>\n    </tr>\n    <tr>\n      <th>3</th>\n      <td>Report Domain: outlookcom.email-sender-3.examp...</td>\n      <td>outlookcom.email-sender-3.example</td>\n      <td>protection.outlook.com</td>\n      <td>6cf08044894b4373817d086a63a527b8</td>\n      <td>anonymized_user@email-recevier-invalid-edv.exa...</td>\n      <td>DMARC Aggregate Report &lt;dmarcreport@microsoft....</td>\n      <td>email-recevier-invalid-edv.example</td>\n      <td>anonymized_user</td>\n      <td>outlook.com</td>\n    </tr>\n    <tr>\n      <th>4</th>\n      <td>Report Domain: yahoocom.email-sender-2.example...</td>\n      <td>yahoocom.email-sender-2.example</td>\n      <td>yahoo.com</td>\n      <td>&lt;1695691562.122520&gt;</td>\n      <td>rua@control-domain.example</td>\n      <td>noreply@dmarc.yahoo.com</td>\n      <td>email-recevier-invalid-edv.example</td>\n      <td>rua</td>\n      <td>yahoo.com</td>\n    </tr>\n    <tr>\n      <th>5</th>\n      <td>Report Domain: outlookcom.email-sender-1.examp...</td>\n      <td>outlookcom.email-sender-1.example</td>\n      <td>protection.outlook.com</td>\n      <td>99c8f8ef55e648718924195f0f2f3b41</td>\n      <td>rua@outlookcom.email-sender-1.example</td>\n      <td>DMARC Aggregate Report &lt;dmarcreport@microsoft....</td>\n      <td>email-sender-1.example</td>\n      <td>rua</td>\n      <td>outlook.com</td>\n    </tr>\n    <tr>\n      <th>6</th>\n      <td>Report domain: gmailcom.email-sender-1.example...</td>\n      <td>gmailcom.email-sender-1.example</td>\n      <td>google.com</td>\n      <td>10338441280247014226</td>\n      <td>rua@gmailcom.email-sender-1.example</td>\n      <td>noreply-dmarc-support@google.com</td>\n      <td>email-sender-1.example</td>\n      <td>rua</td>\n      <td>gmail.com</td>\n    </tr>\n    <tr>\n      <th>7</th>\n      <td>Report Domain: seznamcz.email-sender-1.example...</td>\n      <td>seznamcz.email-sender-1.example</td>\n      <td>seznam.cz</td>\n      <td>szn_seznamcz.email-sender-1.example-2023-09-25</td>\n      <td>rua@seznamcz.email-sender-1.example</td>\n      <td>\"Seznam.cz\" &lt;abuse@seznam.cz&gt;</td>\n      <td>email-sender-1.example</td>\n      <td>rua</td>\n      <td>seznam.cz</td>\n    </tr>\n    <tr>\n      <th>8</th>\n      <td>Report Domain: fastmailcom.email-sender-1.exam...</td>\n      <td>fastmailcom.email-sender-1.example</td>\n      <td>fastmail.com</td>\n      <td>2023.09.25.983356728</td>\n      <td>rua@fastmailcom.email-sender-1.example</td>\n      <td>reports@fastmaildmarc.com</td>\n      <td>email-sender-1.example</td>\n      <td>rua</td>\n      <td>fastmail.com</td>\n    </tr>\n    <tr>\n      <th>9</th>\n      <td>Report Domain: mailru.email-sender-1.example; ...</td>\n      <td>mailru.email-sender-1.example</td>\n      <td>mail.ru</td>\n      <td>17381045686284013781695600000</td>\n      <td>rua@mailru.email-sender-1.example</td>\n      <td>dmarc_support@corp.mail.ru</td>\n      <td>email-sender-1.example</td>\n      <td>rua</td>\n      <td>mail.ru</td>\n    </tr>\n    <tr>\n      <th>10</th>\n      <td>Report Domain: yahoocom.email-sender-1.example...</td>\n      <td>yahoocom.email-sender-1.example</td>\n      <td>yahoo.com</td>\n      <td>&lt;1695690607.2868&gt;</td>\n      <td>rua@yahoocom.email-sender-1.example</td>\n      <td>noreply@dmarc.yahoo.com</td>\n      <td>email-sender-1.example</td>\n      <td>rua</td>\n      <td>yahoo.com</td>\n    </tr>\n    <tr>\n      <th>11</th>\n      <td>Report domain: gmailcom.email-sender-2.example...</td>\n      <td>gmailcom.email-sender-2.example</td>\n      <td>google.com</td>\n      <td>6614913895802182513</td>\n      <td>rua@control-domain.example</td>\n      <td>noreply-dmarc-support@google.com</td>\n      <td>control-domain.example</td>\n      <td>rua</td>\n      <td>gmail.com</td>\n    </tr>\n    <tr>\n      <th>12</th>\n      <td>Report Domain: yahoocom.email-sender-2.example...</td>\n      <td>yahoocom.email-sender-2.example</td>\n      <td>yahoo.com</td>\n      <td>&lt;1695691562.122520&gt;</td>\n      <td>rua@control-domain.example</td>\n      <td>noreply@dmarc.yahoo.com</td>\n      <td>control-domain.example</td>\n      <td>rua</td>\n      <td>yahoo.com</td>\n    </tr>\n    <tr>\n      <th>13</th>\n      <td>Report Domain: fastmailcom.email-sender-2.exam...</td>\n      <td>fastmailcom.email-sender-2.example</td>\n      <td>fastmail.com</td>\n      <td>2023.09.25.983376056</td>\n      <td>rua@control-domain.example</td>\n      <td>reports@fastmaildmarc.com</td>\n      <td>control-domain.example</td>\n      <td>rua</td>\n      <td>fastmail.com</td>\n    </tr>\n    <tr>\n      <th>14</th>\n      <td>Report Domain: seznamcz.email-sender-2.example...</td>\n      <td>seznamcz.email-sender-2.example</td>\n      <td>seznam.cz</td>\n      <td>szn_seznamcz.email-sender-2.example-2023-09-25</td>\n      <td>rua@control-domain.example</td>\n      <td>\"Seznam.cz\" &lt;abuse@seznam.cz&gt;</td>\n      <td>control-domain.example</td>\n      <td>rua</td>\n      <td>seznam.cz</td>\n    </tr>\n    <tr>\n      <th>15</th>\n      <td>Report Domain: mailru.email-sender-2.example; ...</td>\n      <td>mailru.email-sender-2.example</td>\n      <td>mail.ru</td>\n      <td>38065469610694679941695600000</td>\n      <td>rua@control-domain.example</td>\n      <td>dmarc_support@corp.mail.ru</td>\n      <td>control-domain.example</td>\n      <td>rua</td>\n      <td>mail.ru</td>\n    </tr>\n    <tr>\n      <th>16</th>\n      <td>Report Domain: email-sender-2.example Submitte...</td>\n      <td>email-sender-2.example</td>\n      <td>yahoo.com</td>\n      <td>&lt;1695689876.500509&gt;</td>\n      <td>wrongRUA@control-domain.example</td>\n      <td>noreply@dmarc.yahoo.com</td>\n      <td>control-domain.example</td>\n      <td>wrongRUA</td>\n      <td>yahoo.com</td>\n    </tr>\n    <tr>\n      <th>17</th>\n      <td>Report Domain: outlookcom.email-sender-2.examp...</td>\n      <td>outlookcom.email-sender-2.example</td>\n      <td>protection.outlook.com</td>\n      <td>895073515d74482b9c17cac4965c237f</td>\n      <td>rua@control-domain.example</td>\n      <td>DMARC Aggregate Report &lt;dmarcreport@microsoft....</td>\n      <td>control-domain.example</td>\n      <td>rua</td>\n      <td>outlook.com</td>\n    </tr>\n    <tr>\n      <th>18</th>\n      <td>Report domain: gmailcom.email-sender-2.example...</td>\n      <td>gmailcom.email-sender-2.example</td>\n      <td>google.com</td>\n      <td>6614913895802182513</td>\n      <td>rua@control-domain.example</td>\n      <td>noreply-dmarc-support@google.com</td>\n      <td>control-domain.example</td>\n      <td>rua</td>\n      <td>gmail.com</td>\n    </tr>\n    <tr>\n      <th>19</th>\n      <td>Report Domain: fastmailcom.email-sender-4.exam...</td>\n      <td>fastmailcom.email-sender-4.example</td>\n      <td>fastmail.com</td>\n      <td>2023.09.25.983376368</td>\n      <td>redirectionRUA@email-receiver-overwrite.example</td>\n      <td>reports@fastmaildmarc.com</td>\n      <td>email-receiver-overwrite.example</td>\n      <td>redirectionRUA</td>\n      <td>fastmail.com</td>\n    </tr>\n    <tr>\n      <th>20</th>\n      <td>Report Domain: seznamcz.email-sender-4.example...</td>\n      <td>seznamcz.email-sender-4.example</td>\n      <td>seznam.cz</td>\n      <td>szn_seznamcz.email-sender-4.example-2023-09-25</td>\n      <td>rua@email-receiver-overwrite.example</td>\n      <td>\"Seznam.cz\" &lt;abuse@seznam.cz&gt;</td>\n      <td>email-receiver-overwrite.example</td>\n      <td>rua</td>\n      <td>seznam.cz</td>\n    </tr>\n    <tr>\n      <th>21</th>\n      <td>Report domain: gmailcom.email-sender-4.example...</td>\n      <td>gmailcom.email-sender-4.example</td>\n      <td>google.com</td>\n      <td>10327855485683399229</td>\n      <td>rua@email-receiver-overwrite.example</td>\n      <td>noreply-dmarc-support@google.com</td>\n      <td>email-receiver-overwrite.example</td>\n      <td>rua</td>\n      <td>gmail.com</td>\n    </tr>\n    <tr>\n      <th>22</th>\n      <td>Report Domain: outlookcom.email-sender-4.examp...</td>\n      <td>outlookcom.email-sender-4.example</td>\n      <td>protection.outlook.com</td>\n      <td>763af27c9fee45ea8419779f7242d342</td>\n      <td>rua@email-receiver-overwrite.example</td>\n      <td>DMARC Aggregate Report &lt;dmarcreport@microsoft....</td>\n      <td>email-receiver-overwrite.example</td>\n      <td>rua</td>\n      <td>outlook.com</td>\n    </tr>\n    <tr>\n      <th>23</th>\n      <td>Report Domain: yahoocom.email-sender-4.example...</td>\n      <td>yahoocom.email-sender-4.example</td>\n      <td>yahoo.com</td>\n      <td>&lt;1695692135.724103&gt;</td>\n      <td>rua@email-receiver-overwrite.example</td>\n      <td>noreply@dmarc.yahoo.com</td>\n      <td>email-receiver-overwrite.example</td>\n      <td>rua</td>\n      <td>yahoo.com</td>\n    </tr>\n    <tr>\n      <th>24</th>\n      <td>Report Domain: mailru.email-sender-4.example; ...</td>\n      <td>mailru.email-sender-4.example</td>\n      <td>mail.ru</td>\n      <td>17258992469127586741695600000</td>\n      <td>rua@email-receiver-overwrite.example</td>\n      <td>dmarc_support@corp.mail.ru</td>\n      <td>email-receiver-overwrite.example</td>\n      <td>rua</td>\n      <td>mail.ru</td>\n    </tr>\n  </tbody>\n</table>\n</div>"
     },
     "execution_count": 6,
     "metadata": {},
     "output_type": "execute_result"
    }
   ],
   "source": [
    "import re \n",
    "from email import policy\n",
    "from email.parser import BytesParser\n",
    "\n",
    "regex_rule = re.compile(\"domain:([\\s]*[^\\s]+).*submitter:([\\s]*[^\\s]+).*Report-ID:([\\s]*[^\\s]+)\", re.IGNORECASE) \n",
    "\n",
    "def get_dmarc_report_subject_info(subject):\n",
    "    # Lowercase the subject \n",
    "    email_subject = subject.lower()\n",
    "    # remove the following characters: [{, }, ;],\n",
    "    email_subject = email_subject.replace(\"{\", \"\").replace(\"}\", \"\").replace(\";\", \"\")\n",
    "    # replace the tab character (\\t) by a whitespace\n",
    "    email_subject = email_subject.replace(\"\\t\", \" \")\n",
    "    ''' use the following regular expression: : https://regex101.com/r/2VDIyo/2\n",
    "    domain:([\\s]*[^\\s]+).*submitter:([\\s]*[^\\s]+).*  report-id:([\\s]*[^\\s]+) '''\n",
    "    \n",
    "    res = regex_rule.findall(email_subject)\n",
    "    \n",
    "    return [{\"domain\":match[0].strip(), \"submitter\": match[1].strip(), \"report-id\":match[2].strip()}  for match in res]\n",
    "\n",
    "# Return the measured ESP If submitter is within an organization \n",
    "# and the submitter domain name does not correspond to the measured ESP\n",
    "# e.g: gmail.com report as 'google.com' submitter\n",
    "def esp_name_from_submitter_info(sumbitter):\n",
    "    return {\"protection.outlook.com\": 'outlook.com', 'google.com': 'gmail.com'}.get(sumbitter, sumbitter)\n",
    "\n",
    "\n",
    "def extract_informations_from_email(email_path):\n",
    "    with open(email_path, 'rb') as fp:\n",
    "        email_rb = fp.read()\n",
    "        msg = BytesParser(policy=policy.default).parsebytes(email_rb)\n",
    "        email_subject = msg.get(\"subject\")\n",
    "        parsed_dmarc_report_info = get_dmarc_report_subject_info(email_subject)[0]\n",
    "        msg_to = msg.get(\"to\")\n",
    "        msg_from = msg.get(\"from\")\n",
    "    \n",
    "        return {\"subject\": email_subject, \n",
    "                    \"parsed_domain\": parsed_dmarc_report_info[\"domain\"],\n",
    "                    \"parsed_submitter\": parsed_dmarc_report_info[\"submitter\"],\n",
    "                    \"parsed_report_id\":parsed_dmarc_report_info[\"report-id\"],\n",
    "                    \"msg_to\":msg_to, \n",
    "                    \"msg_from\":msg_from,\n",
    "                    \"feature_domain\":features.split(\"@\")[-1],\n",
    "                    \"local_part\":msg_to.split(\"@\")[0]}\n",
    "    \n",
    "res = []\n",
    "directories = []\n",
    "\n",
    "for dir in glob.glob(\"datasets/ReportReceived/*\"):\n",
    "    directories.append({\"path\":dir, \"domain\": dir.split(\"@\")[-1]})\n",
    "\n",
    "for features in [x[\"path\"] for x in directories]:\n",
    "    for file in glob.glob(f'{features}/*') :         \n",
    "        res.append(extract_informations_from_email(file))\n",
    "\n",
    "df = pd.DataFrame(res)\n",
    "df[\"esp_label\"] = df[\"parsed_submitter\"].apply(lambda x: esp_name_from_submitter_info(x) )\n",
    "df.to_csv('generated/report_received.csv', index=False)\n",
    "\n",
    "df\n"
   ],
   "metadata": {
    "collapsed": false,
    "ExecuteTime": {
     "end_time": "2024-06-15T10:40:11.493001824Z",
     "start_time": "2024-06-15T10:40:11.443589358Z"
    }
   },
   "id": "cc4f6bf40297176e"
  },
  {
   "cell_type": "markdown",
   "source": [
    "# Generate the result analysis from DMARC aggregate repot data extracted previously"
   ],
   "metadata": {
    "collapsed": false
   },
   "id": "787f7e2fcc508aee"
  },
  {
   "cell_type": "code",
   "execution_count": 7,
   "outputs": [
    {
     "name": "stdout",
     "output_type": "stream",
     "text": [
      "{'esp_sending_rua': ['outlook.com', 'gmail.com', 'seznam.cz', 'fastmail.com', 'mail.ru', 'yahoo.com'], 'esp_sending_ruf': [], 'esp_sending_rua_edv_succeed': ['gmail.com', 'yahoo.com', 'fastmail.com', 'seznam.cz', 'mail.ru', 'outlook.com'], 'esp_sending_rua_edv_failed': ['seznam.cz', 'gmail.com', 'outlook.com', 'yahoo.com'], 'edv_rewritting_rua': ['fastmail.com']}\n"
     ]
    }
   ],
   "source": [
    "are_sending_rua = df[df.feature_domain == \"email-sender-1.example\"][\"esp_label\"][df[\"local_part\"] == \"rua\"].drop_duplicates()\n",
    "are_sending_ruf = df[df.feature_domain == \"email-sender-1.example\"][\"esp_label\"][df[\"local_part\"] == \"ruf\"].drop_duplicates()\n",
    "have_received_rua_when_edv_fails = df[df.feature_domain == \"email-recevier-invalid-edv.example\"][\"esp_label\"].drop_duplicates()\n",
    "have_received_rua_external_edv_suceed = df[df.feature_domain == \"control-domain.example\"][\"esp_label\"].drop_duplicates()\n",
    "have_received_rua_external_edv_overwrite= df[df.feature_domain == \"email-receiver-overwrite.example\"][df.msg_to == \"redirectionRUA@email-receiver-overwrite.example\"][\"esp_label\"].drop_duplicates()\n",
    "\n",
    "features_evaluation = {\"esp_sending_rua\": list(are_sending_rua),\n",
    "                    \"esp_sending_ruf\": list(are_sending_ruf),\n",
    "       \"esp_sending_rua_edv_succeed\": list(have_received_rua_external_edv_suceed),\n",
    "       \"esp_sending_rua_edv_failed\": list(have_received_rua_when_edv_fails),\n",
    "       \"edv_rewritting_rua\": list(have_received_rua_external_edv_overwrite)\n",
    "       }\n",
    "\n",
    "print(features_evaluation)\n",
    "\n",
    "with open(\"generated/reporting_feature\", 'w') as fp:\n",
    "    json.dump(features_evaluation, fp)\n",
    "\n",
    "\n"
   ],
   "metadata": {
    "collapsed": false,
    "ExecuteTime": {
     "end_time": "2024-06-15T10:40:11.501000808Z",
     "start_time": "2024-06-15T10:40:11.498015259Z"
    }
   },
   "id": "26c28317ccd738ca"
  }
 ],
 "metadata": {
  "kernelspec": {
   "display_name": "Python 3",
   "language": "python",
   "name": "python3"
  },
  "language_info": {
   "codemirror_mode": {
    "name": "ipython",
    "version": 2
   },
   "file_extension": ".py",
   "mimetype": "text/x-python",
   "name": "python",
   "nbconvert_exporter": "python",
   "pygments_lexer": "ipython2",
   "version": "2.7.6"
  }
 },
 "nbformat": 4,
 "nbformat_minor": 5
}
