{
 "cells": [
  {
   "cell_type": "code",
   "execution_count": 1,
   "id": "initial_id",
   "metadata": {
    "collapsed": true,
    "ExecuteTime": {
     "end_time": "2024-06-15T10:40:13.417348448Z",
     "start_time": "2024-06-15T10:40:13.274762030Z"
    }
   },
   "outputs": [],
   "source": [
    "import json\n",
    "import pandas as pd"
   ]
  },
  {
   "cell_type": "markdown",
   "source": [
    "# Create our table index from rspamd extracted data"
   ],
   "metadata": {
    "collapsed": false
   },
   "id": "57de296c4a5dd4a6"
  },
  {
   "cell_type": "code",
   "execution_count": 2,
   "outputs": [
    {
     "data": {
      "text/plain": "          esp_name      esp_label\n0      zohomail.eu     zohomaileu\n1       yandex.com      yandexcom\n2        yahoo.com       yahoocom\n3        seznam.cz       seznamcz\n4          sapo.pt         sapopt\n5       rediff.com      rediffcom\n6   protonmail.com  protonmailcom\n7        orange.fr       orangefr\n8            op.pl           oppl\n9    mailfence.com   mailfencecom\n10        mail.com        mailcom\n11     laposte.net     lapostenet\n12    kolabnow.com    kolabnowcom\n13      interia.pl      interiapl\n14        inbox.lv        inboxlv\n15         hey.com         heycom\n16     freemail.hu     freemailhu\n17         163.com         163com\n19    tutanota.com    tutanotacom\n20         gmx.net         gmxnet\n21     outlook.com     outlookcom\n22       naver.com       navercom\n23       gmail.com       gmailcom\n24    fastmail.com    fastmailcom\n25         mail.ru         mailru",
      "text/html": "<div>\n<style scoped>\n    .dataframe tbody tr th:only-of-type {\n        vertical-align: middle;\n    }\n\n    .dataframe tbody tr th {\n        vertical-align: top;\n    }\n\n    .dataframe thead th {\n        text-align: right;\n    }\n</style>\n<table border=\"1\" class=\"dataframe\">\n  <thead>\n    <tr style=\"text-align: right;\">\n      <th></th>\n      <th>esp_name</th>\n      <th>esp_label</th>\n    </tr>\n  </thead>\n  <tbody>\n    <tr>\n      <th>0</th>\n      <td>zohomail.eu</td>\n      <td>zohomaileu</td>\n    </tr>\n    <tr>\n      <th>1</th>\n      <td>yandex.com</td>\n      <td>yandexcom</td>\n    </tr>\n    <tr>\n      <th>2</th>\n      <td>yahoo.com</td>\n      <td>yahoocom</td>\n    </tr>\n    <tr>\n      <th>3</th>\n      <td>seznam.cz</td>\n      <td>seznamcz</td>\n    </tr>\n    <tr>\n      <th>4</th>\n      <td>sapo.pt</td>\n      <td>sapopt</td>\n    </tr>\n    <tr>\n      <th>5</th>\n      <td>rediff.com</td>\n      <td>rediffcom</td>\n    </tr>\n    <tr>\n      <th>6</th>\n      <td>protonmail.com</td>\n      <td>protonmailcom</td>\n    </tr>\n    <tr>\n      <th>7</th>\n      <td>orange.fr</td>\n      <td>orangefr</td>\n    </tr>\n    <tr>\n      <th>8</th>\n      <td>op.pl</td>\n      <td>oppl</td>\n    </tr>\n    <tr>\n      <th>9</th>\n      <td>mailfence.com</td>\n      <td>mailfencecom</td>\n    </tr>\n    <tr>\n      <th>10</th>\n      <td>mail.com</td>\n      <td>mailcom</td>\n    </tr>\n    <tr>\n      <th>11</th>\n      <td>laposte.net</td>\n      <td>lapostenet</td>\n    </tr>\n    <tr>\n      <th>12</th>\n      <td>kolabnow.com</td>\n      <td>kolabnowcom</td>\n    </tr>\n    <tr>\n      <th>13</th>\n      <td>interia.pl</td>\n      <td>interiapl</td>\n    </tr>\n    <tr>\n      <th>14</th>\n      <td>inbox.lv</td>\n      <td>inboxlv</td>\n    </tr>\n    <tr>\n      <th>15</th>\n      <td>hey.com</td>\n      <td>heycom</td>\n    </tr>\n    <tr>\n      <th>16</th>\n      <td>freemail.hu</td>\n      <td>freemailhu</td>\n    </tr>\n    <tr>\n      <th>17</th>\n      <td>163.com</td>\n      <td>163com</td>\n    </tr>\n    <tr>\n      <th>19</th>\n      <td>tutanota.com</td>\n      <td>tutanotacom</td>\n    </tr>\n    <tr>\n      <th>20</th>\n      <td>gmx.net</td>\n      <td>gmxnet</td>\n    </tr>\n    <tr>\n      <th>21</th>\n      <td>outlook.com</td>\n      <td>outlookcom</td>\n    </tr>\n    <tr>\n      <th>22</th>\n      <td>naver.com</td>\n      <td>navercom</td>\n    </tr>\n    <tr>\n      <th>23</th>\n      <td>gmail.com</td>\n      <td>gmailcom</td>\n    </tr>\n    <tr>\n      <th>24</th>\n      <td>fastmail.com</td>\n      <td>fastmailcom</td>\n    </tr>\n    <tr>\n      <th>25</th>\n      <td>mail.ru</td>\n      <td>mailru</td>\n    </tr>\n  </tbody>\n</table>\n</div>"
     },
     "execution_count": 2,
     "metadata": {},
     "output_type": "execute_result"
    }
   ],
   "source": [
    "df = pd.read_csv(\"generated/rspamd.csv\")[[\"email_sent_to\", 'targeted_esp']].drop_duplicates()\n",
    "# Remove the test-control domain\n",
    "df = df[df[\"email_sent_to\"] != \"control-domain.example\" ]\n",
    "# Rename collumns\n",
    "df = df.rename(columns={\"email_sent_to\": \"esp_name\", \"targeted_esp\": \"esp_label\"})\n",
    "df"
   ],
   "metadata": {
    "collapsed": false,
    "ExecuteTime": {
     "end_time": "2024-06-15T10:40:13.437204468Z",
     "start_time": "2024-06-15T10:40:13.419282465Z"
    }
   },
   "id": "a6d6b4da143f5fba"
  },
  {
   "cell_type": "markdown",
   "source": [
    "# Add the DNS log analysis"
   ],
   "metadata": {
    "collapsed": false
   },
   "id": "feace005ee254842"
  },
  {
   "cell_type": "code",
   "execution_count": 3,
   "outputs": [
    {
     "data": {
      "text/plain": "                     esp_name  SPF_txt  SPF_exsit  DKIM_txt  DMARC_txt  \\\nesp_label                                                                \nzohomaileu        zohomail.eu     True       True      True       True   \nyandexcom          yandex.com     True      False      True       True   \nyahoocom            yahoo.com     True       True      True       True   \nseznamcz            seznam.cz     True       True      True       True   \nsapopt                sapo.pt     True       True      True       True   \nrediffcom          rediff.com     True       True      True       True   \nprotonmailcom  protonmail.com     True       True      True       True   \norangefr            orange.fr     True       True      True       True   \noppl                    op.pl     True       True      True       True   \nmailfencecom    mailfence.com     True       True      True       True   \nmailcom              mail.com     True       True      True       True   \nlapostenet        laposte.net     True       True      True       True   \nkolabnowcom      kolabnow.com     True       True      True      False   \ninteriapl          interia.pl     True       True      True       True   \ninboxlv              inbox.lv     True       True      True       True   \nheycom                hey.com     True       True      True       True   \nfreemailhu        freemail.hu    False      False     False      False   \n163com                163.com     True      False      True       True   \ntutanotacom      tutanota.com     True       True      True       True   \ngmxnet                gmx.net     True       True      True       True   \noutlookcom        outlook.com     True       True      True       True   \nnavercom            naver.com     True       True      True       True   \ngmailcom            gmail.com     True       True      True       True   \nfastmailcom      fastmail.com     True       True      True       True   \nmailru                mail.ru     True       True      True       True   \n\n               EDV_process  \nesp_label                   \nzohomaileu           False  \nyandexcom            False  \nyahoocom              True  \nseznamcz             False  \nsapopt               False  \nrediffcom            False  \nprotonmailcom        False  \norangefr             False  \noppl                  True  \nmailfencecom         False  \nmailcom              False  \nlapostenet            True  \nkolabnowcom          False  \ninteriapl            False  \ninboxlv              False  \nheycom               False  \nfreemailhu           False  \n163com               False  \ntutanotacom          False  \ngmxnet               False  \noutlookcom           False  \nnavercom             False  \ngmailcom             False  \nfastmailcom           True  \nmailru                True  ",
      "text/html": "<div>\n<style scoped>\n    .dataframe tbody tr th:only-of-type {\n        vertical-align: middle;\n    }\n\n    .dataframe tbody tr th {\n        vertical-align: top;\n    }\n\n    .dataframe thead th {\n        text-align: right;\n    }\n</style>\n<table border=\"1\" class=\"dataframe\">\n  <thead>\n    <tr style=\"text-align: right;\">\n      <th></th>\n      <th>esp_name</th>\n      <th>SPF_txt</th>\n      <th>SPF_exsit</th>\n      <th>DKIM_txt</th>\n      <th>DMARC_txt</th>\n      <th>EDV_process</th>\n    </tr>\n    <tr>\n      <th>esp_label</th>\n      <th></th>\n      <th></th>\n      <th></th>\n      <th></th>\n      <th></th>\n      <th></th>\n    </tr>\n  </thead>\n  <tbody>\n    <tr>\n      <th>zohomaileu</th>\n      <td>zohomail.eu</td>\n      <td>True</td>\n      <td>True</td>\n      <td>True</td>\n      <td>True</td>\n      <td>False</td>\n    </tr>\n    <tr>\n      <th>yandexcom</th>\n      <td>yandex.com</td>\n      <td>True</td>\n      <td>False</td>\n      <td>True</td>\n      <td>True</td>\n      <td>False</td>\n    </tr>\n    <tr>\n      <th>yahoocom</th>\n      <td>yahoo.com</td>\n      <td>True</td>\n      <td>True</td>\n      <td>True</td>\n      <td>True</td>\n      <td>True</td>\n    </tr>\n    <tr>\n      <th>seznamcz</th>\n      <td>seznam.cz</td>\n      <td>True</td>\n      <td>True</td>\n      <td>True</td>\n      <td>True</td>\n      <td>False</td>\n    </tr>\n    <tr>\n      <th>sapopt</th>\n      <td>sapo.pt</td>\n      <td>True</td>\n      <td>True</td>\n      <td>True</td>\n      <td>True</td>\n      <td>False</td>\n    </tr>\n    <tr>\n      <th>rediffcom</th>\n      <td>rediff.com</td>\n      <td>True</td>\n      <td>True</td>\n      <td>True</td>\n      <td>True</td>\n      <td>False</td>\n    </tr>\n    <tr>\n      <th>protonmailcom</th>\n      <td>protonmail.com</td>\n      <td>True</td>\n      <td>True</td>\n      <td>True</td>\n      <td>True</td>\n      <td>False</td>\n    </tr>\n    <tr>\n      <th>orangefr</th>\n      <td>orange.fr</td>\n      <td>True</td>\n      <td>True</td>\n      <td>True</td>\n      <td>True</td>\n      <td>False</td>\n    </tr>\n    <tr>\n      <th>oppl</th>\n      <td>op.pl</td>\n      <td>True</td>\n      <td>True</td>\n      <td>True</td>\n      <td>True</td>\n      <td>True</td>\n    </tr>\n    <tr>\n      <th>mailfencecom</th>\n      <td>mailfence.com</td>\n      <td>True</td>\n      <td>True</td>\n      <td>True</td>\n      <td>True</td>\n      <td>False</td>\n    </tr>\n    <tr>\n      <th>mailcom</th>\n      <td>mail.com</td>\n      <td>True</td>\n      <td>True</td>\n      <td>True</td>\n      <td>True</td>\n      <td>False</td>\n    </tr>\n    <tr>\n      <th>lapostenet</th>\n      <td>laposte.net</td>\n      <td>True</td>\n      <td>True</td>\n      <td>True</td>\n      <td>True</td>\n      <td>True</td>\n    </tr>\n    <tr>\n      <th>kolabnowcom</th>\n      <td>kolabnow.com</td>\n      <td>True</td>\n      <td>True</td>\n      <td>True</td>\n      <td>False</td>\n      <td>False</td>\n    </tr>\n    <tr>\n      <th>interiapl</th>\n      <td>interia.pl</td>\n      <td>True</td>\n      <td>True</td>\n      <td>True</td>\n      <td>True</td>\n      <td>False</td>\n    </tr>\n    <tr>\n      <th>inboxlv</th>\n      <td>inbox.lv</td>\n      <td>True</td>\n      <td>True</td>\n      <td>True</td>\n      <td>True</td>\n      <td>False</td>\n    </tr>\n    <tr>\n      <th>heycom</th>\n      <td>hey.com</td>\n      <td>True</td>\n      <td>True</td>\n      <td>True</td>\n      <td>True</td>\n      <td>False</td>\n    </tr>\n    <tr>\n      <th>freemailhu</th>\n      <td>freemail.hu</td>\n      <td>False</td>\n      <td>False</td>\n      <td>False</td>\n      <td>False</td>\n      <td>False</td>\n    </tr>\n    <tr>\n      <th>163com</th>\n      <td>163.com</td>\n      <td>True</td>\n      <td>False</td>\n      <td>True</td>\n      <td>True</td>\n      <td>False</td>\n    </tr>\n    <tr>\n      <th>tutanotacom</th>\n      <td>tutanota.com</td>\n      <td>True</td>\n      <td>True</td>\n      <td>True</td>\n      <td>True</td>\n      <td>False</td>\n    </tr>\n    <tr>\n      <th>gmxnet</th>\n      <td>gmx.net</td>\n      <td>True</td>\n      <td>True</td>\n      <td>True</td>\n      <td>True</td>\n      <td>False</td>\n    </tr>\n    <tr>\n      <th>outlookcom</th>\n      <td>outlook.com</td>\n      <td>True</td>\n      <td>True</td>\n      <td>True</td>\n      <td>True</td>\n      <td>False</td>\n    </tr>\n    <tr>\n      <th>navercom</th>\n      <td>naver.com</td>\n      <td>True</td>\n      <td>True</td>\n      <td>True</td>\n      <td>True</td>\n      <td>False</td>\n    </tr>\n    <tr>\n      <th>gmailcom</th>\n      <td>gmail.com</td>\n      <td>True</td>\n      <td>True</td>\n      <td>True</td>\n      <td>True</td>\n      <td>False</td>\n    </tr>\n    <tr>\n      <th>fastmailcom</th>\n      <td>fastmail.com</td>\n      <td>True</td>\n      <td>True</td>\n      <td>True</td>\n      <td>True</td>\n      <td>True</td>\n    </tr>\n    <tr>\n      <th>mailru</th>\n      <td>mail.ru</td>\n      <td>True</td>\n      <td>True</td>\n      <td>True</td>\n      <td>True</td>\n      <td>True</td>\n    </tr>\n  </tbody>\n</table>\n</div>"
     },
     "execution_count": 3,
     "metadata": {},
     "output_type": "execute_result"
    }
   ],
   "source": [
    "# Join bind Database\n",
    "dns_records_dataframe = pd.read_csv(\"generated/bind_results.csv\")\n",
    "df = df.set_index(\"esp_label\").join(dns_records_dataframe.set_index('ESP'))\n",
    "df"
   ],
   "metadata": {
    "collapsed": false,
    "ExecuteTime": {
     "end_time": "2024-06-15T10:40:13.469590860Z",
     "start_time": "2024-06-15T10:40:13.436504711Z"
    }
   },
   "id": "a1efd406b01367cc"
  },
  {
   "cell_type": "markdown",
   "source": [
    "# Add the Authentication-Results headers informations"
   ],
   "metadata": {
    "collapsed": false
   },
   "id": "1d6bc315f987a1de"
  },
  {
   "cell_type": "code",
   "execution_count": 4,
   "outputs": [
    {
     "data": {
      "text/plain": "                     esp_name  SPF_txt  SPF_exsit  DKIM_txt  DMARC_txt  \\\nesp_label                                                                \nzohomaileu        zohomail.eu     True       True      True       True   \nyandexcom          yandex.com     True      False      True       True   \nyahoocom            yahoo.com     True       True      True       True   \nseznamcz            seznam.cz     True       True      True       True   \nsapopt                sapo.pt     True       True      True       True   \nrediffcom          rediff.com     True       True      True       True   \nprotonmailcom  protonmail.com     True       True      True       True   \norangefr            orange.fr     True       True      True       True   \noppl                    op.pl     True       True      True       True   \nmailfencecom    mailfence.com     True       True      True       True   \nmailcom              mail.com     True       True      True       True   \nlapostenet        laposte.net     True       True      True       True   \nkolabnowcom      kolabnow.com     True       True      True      False   \ninteriapl          interia.pl     True       True      True       True   \ninboxlv              inbox.lv     True       True      True       True   \nheycom                hey.com     True       True      True       True   \nfreemailhu        freemail.hu    False      False     False      False   \n163com                163.com     True      False      True       True   \ntutanotacom      tutanota.com     True       True      True       True   \ngmxnet                gmx.net     True       True      True       True   \noutlookcom        outlook.com     True       True      True       True   \nnavercom            naver.com     True       True      True       True   \ngmailcom            gmail.com     True       True      True       True   \nfastmailcom      fastmail.com     True       True      True       True   \nmailru                mail.ru     True       True      True       True   \n\n               EDV_process  dmarc_header  dkim_header  spf_header  \nesp_label                                                          \nzohomaileu           False          True         True        True  \nyandexcom            False         False         True        True  \nyahoocom              True          True         True        True  \nseznamcz             False         False        False       False  \nsapopt               False         False        False       False  \nrediffcom            False          True         True        True  \nprotonmailcom        False          True         True        True  \norangefr             False         False         True       False  \noppl                  True          True         True        True  \nmailfencecom         False         False        False       False  \nmailcom              False         False         True       False  \nlapostenet            True          True         True        True  \nkolabnowcom          False         False         True       False  \ninteriapl            False         False        False       False  \ninboxlv              False          True         True        True  \nheycom               False          True         True        True  \nfreemailhu           False         False        False       False  \n163com               False         False         True        True  \ntutanotacom          False          True         True       False  \ngmxnet               False         False         True       False  \noutlookcom           False          True         True        True  \nnavercom             False          True         True        True  \ngmailcom             False          True         True        True  \nfastmailcom           True          True         True        True  \nmailru                True          True         True        True  ",
      "text/html": "<div>\n<style scoped>\n    .dataframe tbody tr th:only-of-type {\n        vertical-align: middle;\n    }\n\n    .dataframe tbody tr th {\n        vertical-align: top;\n    }\n\n    .dataframe thead th {\n        text-align: right;\n    }\n</style>\n<table border=\"1\" class=\"dataframe\">\n  <thead>\n    <tr style=\"text-align: right;\">\n      <th></th>\n      <th>esp_name</th>\n      <th>SPF_txt</th>\n      <th>SPF_exsit</th>\n      <th>DKIM_txt</th>\n      <th>DMARC_txt</th>\n      <th>EDV_process</th>\n      <th>dmarc_header</th>\n      <th>dkim_header</th>\n      <th>spf_header</th>\n    </tr>\n    <tr>\n      <th>esp_label</th>\n      <th></th>\n      <th></th>\n      <th></th>\n      <th></th>\n      <th></th>\n      <th></th>\n      <th></th>\n      <th></th>\n      <th></th>\n    </tr>\n  </thead>\n  <tbody>\n    <tr>\n      <th>zohomaileu</th>\n      <td>zohomail.eu</td>\n      <td>True</td>\n      <td>True</td>\n      <td>True</td>\n      <td>True</td>\n      <td>False</td>\n      <td>True</td>\n      <td>True</td>\n      <td>True</td>\n    </tr>\n    <tr>\n      <th>yandexcom</th>\n      <td>yandex.com</td>\n      <td>True</td>\n      <td>False</td>\n      <td>True</td>\n      <td>True</td>\n      <td>False</td>\n      <td>False</td>\n      <td>True</td>\n      <td>True</td>\n    </tr>\n    <tr>\n      <th>yahoocom</th>\n      <td>yahoo.com</td>\n      <td>True</td>\n      <td>True</td>\n      <td>True</td>\n      <td>True</td>\n      <td>True</td>\n      <td>True</td>\n      <td>True</td>\n      <td>True</td>\n    </tr>\n    <tr>\n      <th>seznamcz</th>\n      <td>seznam.cz</td>\n      <td>True</td>\n      <td>True</td>\n      <td>True</td>\n      <td>True</td>\n      <td>False</td>\n      <td>False</td>\n      <td>False</td>\n      <td>False</td>\n    </tr>\n    <tr>\n      <th>sapopt</th>\n      <td>sapo.pt</td>\n      <td>True</td>\n      <td>True</td>\n      <td>True</td>\n      <td>True</td>\n      <td>False</td>\n      <td>False</td>\n      <td>False</td>\n      <td>False</td>\n    </tr>\n    <tr>\n      <th>rediffcom</th>\n      <td>rediff.com</td>\n      <td>True</td>\n      <td>True</td>\n      <td>True</td>\n      <td>True</td>\n      <td>False</td>\n      <td>True</td>\n      <td>True</td>\n      <td>True</td>\n    </tr>\n    <tr>\n      <th>protonmailcom</th>\n      <td>protonmail.com</td>\n      <td>True</td>\n      <td>True</td>\n      <td>True</td>\n      <td>True</td>\n      <td>False</td>\n      <td>True</td>\n      <td>True</td>\n      <td>True</td>\n    </tr>\n    <tr>\n      <th>orangefr</th>\n      <td>orange.fr</td>\n      <td>True</td>\n      <td>True</td>\n      <td>True</td>\n      <td>True</td>\n      <td>False</td>\n      <td>False</td>\n      <td>True</td>\n      <td>False</td>\n    </tr>\n    <tr>\n      <th>oppl</th>\n      <td>op.pl</td>\n      <td>True</td>\n      <td>True</td>\n      <td>True</td>\n      <td>True</td>\n      <td>True</td>\n      <td>True</td>\n      <td>True</td>\n      <td>True</td>\n    </tr>\n    <tr>\n      <th>mailfencecom</th>\n      <td>mailfence.com</td>\n      <td>True</td>\n      <td>True</td>\n      <td>True</td>\n      <td>True</td>\n      <td>False</td>\n      <td>False</td>\n      <td>False</td>\n      <td>False</td>\n    </tr>\n    <tr>\n      <th>mailcom</th>\n      <td>mail.com</td>\n      <td>True</td>\n      <td>True</td>\n      <td>True</td>\n      <td>True</td>\n      <td>False</td>\n      <td>False</td>\n      <td>True</td>\n      <td>False</td>\n    </tr>\n    <tr>\n      <th>lapostenet</th>\n      <td>laposte.net</td>\n      <td>True</td>\n      <td>True</td>\n      <td>True</td>\n      <td>True</td>\n      <td>True</td>\n      <td>True</td>\n      <td>True</td>\n      <td>True</td>\n    </tr>\n    <tr>\n      <th>kolabnowcom</th>\n      <td>kolabnow.com</td>\n      <td>True</td>\n      <td>True</td>\n      <td>True</td>\n      <td>False</td>\n      <td>False</td>\n      <td>False</td>\n      <td>True</td>\n      <td>False</td>\n    </tr>\n    <tr>\n      <th>interiapl</th>\n      <td>interia.pl</td>\n      <td>True</td>\n      <td>True</td>\n      <td>True</td>\n      <td>True</td>\n      <td>False</td>\n      <td>False</td>\n      <td>False</td>\n      <td>False</td>\n    </tr>\n    <tr>\n      <th>inboxlv</th>\n      <td>inbox.lv</td>\n      <td>True</td>\n      <td>True</td>\n      <td>True</td>\n      <td>True</td>\n      <td>False</td>\n      <td>True</td>\n      <td>True</td>\n      <td>True</td>\n    </tr>\n    <tr>\n      <th>heycom</th>\n      <td>hey.com</td>\n      <td>True</td>\n      <td>True</td>\n      <td>True</td>\n      <td>True</td>\n      <td>False</td>\n      <td>True</td>\n      <td>True</td>\n      <td>True</td>\n    </tr>\n    <tr>\n      <th>freemailhu</th>\n      <td>freemail.hu</td>\n      <td>False</td>\n      <td>False</td>\n      <td>False</td>\n      <td>False</td>\n      <td>False</td>\n      <td>False</td>\n      <td>False</td>\n      <td>False</td>\n    </tr>\n    <tr>\n      <th>163com</th>\n      <td>163.com</td>\n      <td>True</td>\n      <td>False</td>\n      <td>True</td>\n      <td>True</td>\n      <td>False</td>\n      <td>False</td>\n      <td>True</td>\n      <td>True</td>\n    </tr>\n    <tr>\n      <th>tutanotacom</th>\n      <td>tutanota.com</td>\n      <td>True</td>\n      <td>True</td>\n      <td>True</td>\n      <td>True</td>\n      <td>False</td>\n      <td>True</td>\n      <td>True</td>\n      <td>False</td>\n    </tr>\n    <tr>\n      <th>gmxnet</th>\n      <td>gmx.net</td>\n      <td>True</td>\n      <td>True</td>\n      <td>True</td>\n      <td>True</td>\n      <td>False</td>\n      <td>False</td>\n      <td>True</td>\n      <td>False</td>\n    </tr>\n    <tr>\n      <th>outlookcom</th>\n      <td>outlook.com</td>\n      <td>True</td>\n      <td>True</td>\n      <td>True</td>\n      <td>True</td>\n      <td>False</td>\n      <td>True</td>\n      <td>True</td>\n      <td>True</td>\n    </tr>\n    <tr>\n      <th>navercom</th>\n      <td>naver.com</td>\n      <td>True</td>\n      <td>True</td>\n      <td>True</td>\n      <td>True</td>\n      <td>False</td>\n      <td>True</td>\n      <td>True</td>\n      <td>True</td>\n    </tr>\n    <tr>\n      <th>gmailcom</th>\n      <td>gmail.com</td>\n      <td>True</td>\n      <td>True</td>\n      <td>True</td>\n      <td>True</td>\n      <td>False</td>\n      <td>True</td>\n      <td>True</td>\n      <td>True</td>\n    </tr>\n    <tr>\n      <th>fastmailcom</th>\n      <td>fastmail.com</td>\n      <td>True</td>\n      <td>True</td>\n      <td>True</td>\n      <td>True</td>\n      <td>True</td>\n      <td>True</td>\n      <td>True</td>\n      <td>True</td>\n    </tr>\n    <tr>\n      <th>mailru</th>\n      <td>mail.ru</td>\n      <td>True</td>\n      <td>True</td>\n      <td>True</td>\n      <td>True</td>\n      <td>True</td>\n      <td>True</td>\n      <td>True</td>\n      <td>True</td>\n    </tr>\n  </tbody>\n</table>\n</div>"
     },
     "execution_count": 4,
     "metadata": {},
     "output_type": "execute_result"
    }
   ],
   "source": [
    "with open(\"generated/auth_info.json\", \"r\") as fp:\n",
    "    header_info = json.load(fp)\n",
    "\n",
    "def extract_header_info(esp, header_name):\n",
    "    esp_data = header_info.get(esp)\n",
    "    if esp_data is None:\n",
    "        return None\n",
    "    return header_name in esp_data\n",
    "    \n",
    "df[\"dmarc_header\"] = df.index.map(lambda esp: extract_header_info(esp, \"dmarc\"))\n",
    "df[\"dkim_header\"] = df.index.map(lambda esp: extract_header_info(esp, \"dkim\"))\n",
    "df[\"spf_header\"] = df.index.map(lambda esp: extract_header_info(esp, \"spf\"))\n",
    "\n",
    "df"
   ],
   "metadata": {
    "collapsed": false,
    "ExecuteTime": {
     "end_time": "2024-06-15T10:40:13.488691532Z",
     "start_time": "2024-06-15T10:40:13.449685279Z"
    }
   },
   "id": "bb5a927096d930b5"
  },
  {
   "cell_type": "markdown",
   "source": [
    "# Add the DMARC aggregate report test results "
   ],
   "metadata": {
    "collapsed": false
   },
   "id": "b72727278139a1e"
  },
  {
   "cell_type": "code",
   "execution_count": 5,
   "outputs": [
    {
     "data": {
      "text/plain": "                     esp_name  SPF_txt  SPF_exsit  DKIM_txt  DMARC_txt  \\\nesp_label                                                                \n163com                163.com     True      False      True       True   \nfastmailcom      fastmail.com     True       True      True       True   \nfreemailhu        freemail.hu    False      False     False      False   \ngmailcom            gmail.com     True       True      True       True   \ngmxnet                gmx.net     True       True      True       True   \nheycom                hey.com     True       True      True       True   \ninboxlv              inbox.lv     True       True      True       True   \ninteriapl          interia.pl     True       True      True       True   \nkolabnowcom      kolabnow.com     True       True      True      False   \nlapostenet        laposte.net     True       True      True       True   \nmailcom              mail.com     True       True      True       True   \nmailru                mail.ru     True       True      True       True   \nmailfencecom    mailfence.com     True       True      True       True   \nnavercom            naver.com     True       True      True       True   \noppl                    op.pl     True       True      True       True   \norangefr            orange.fr     True       True      True       True   \noutlookcom        outlook.com     True       True      True       True   \nprotonmailcom  protonmail.com     True       True      True       True   \nrediffcom          rediff.com     True       True      True       True   \nsapopt                sapo.pt     True       True      True       True   \nseznamcz            seznam.cz     True       True      True       True   \ntutanotacom      tutanota.com     True       True      True       True   \nyahoocom            yahoo.com     True       True      True       True   \nyandexcom          yandex.com     True      False      True       True   \nzohomaileu        zohomail.eu     True       True      True       True   \n\n               EDV_process  dmarc_header  dkim_header  spf_header    rua  \\\nesp_label                                                                  \n163com               False         False         True        True  False   \nfastmailcom           True          True         True        True   True   \nfreemailhu           False         False        False       False  False   \ngmailcom             False          True         True        True   True   \ngmxnet               False         False         True       False  False   \nheycom               False          True         True        True  False   \ninboxlv              False          True         True        True  False   \ninteriapl            False         False        False       False  False   \nkolabnowcom          False         False         True       False  False   \nlapostenet            True          True         True        True  False   \nmailcom              False         False         True       False  False   \nmailru                True          True         True        True   True   \nmailfencecom         False         False        False       False  False   \nnavercom             False          True         True        True  False   \noppl                  True          True         True        True  False   \norangefr             False         False         True       False  False   \noutlookcom           False          True         True        True   True   \nprotonmailcom        False          True         True        True  False   \nrediffcom            False          True         True        True  False   \nsapopt               False         False        False       False  False   \nseznamcz             False         False        False       False   True   \ntutanotacom          False          True         True       False  False   \nyahoocom              True          True         True        True   True   \nyandexcom            False         False         True        True  False   \nzohomaileu           False          True         True        True  False   \n\n                 ruf rua_with_edv_success rua_with_edv_failure  \\\nesp_label                                                        \n163com         False                 None                 None   \nfastmailcom    False                 True                 True   \nfreemailhu     False                 None                 None   \ngmailcom       False                 True                False   \ngmxnet         False                 None                 None   \nheycom         False                 None                 None   \ninboxlv        False                 None                 None   \ninteriapl      False                 None                 None   \nkolabnowcom    False                 None                 None   \nlapostenet     False                 None                 None   \nmailcom        False                 None                 None   \nmailru         False                 True                 True   \nmailfencecom   False                 None                 None   \nnavercom       False                 None                 None   \noppl           False                 None                 None   \norangefr       False                 None                 None   \noutlookcom     False                 True                False   \nprotonmailcom  False                 None                 None   \nrediffcom      False                 None                 None   \nsapopt         False                 None                 None   \nseznamcz       False                 True                False   \ntutanotacom    False                 None                 None   \nyahoocom       False                 True                False   \nyandexcom      False                 None                 None   \nzohomaileu     False                 None                 None   \n\n              rua_with_rewritting_edv  \nesp_label                              \n163com                           None  \nfastmailcom                      True  \nfreemailhu                       None  \ngmailcom                        False  \ngmxnet                           None  \nheycom                           None  \ninboxlv                          None  \ninteriapl                        None  \nkolabnowcom                      None  \nlapostenet                       None  \nmailcom                          None  \nmailru                          False  \nmailfencecom                     None  \nnavercom                         None  \noppl                             None  \norangefr                         None  \noutlookcom                      False  \nprotonmailcom                    None  \nrediffcom                        None  \nsapopt                           None  \nseznamcz                        False  \ntutanotacom                      None  \nyahoocom                        False  \nyandexcom                        None  \nzohomaileu                       None  ",
      "text/html": "<div>\n<style scoped>\n    .dataframe tbody tr th:only-of-type {\n        vertical-align: middle;\n    }\n\n    .dataframe tbody tr th {\n        vertical-align: top;\n    }\n\n    .dataframe thead th {\n        text-align: right;\n    }\n</style>\n<table border=\"1\" class=\"dataframe\">\n  <thead>\n    <tr style=\"text-align: right;\">\n      <th></th>\n      <th>esp_name</th>\n      <th>SPF_txt</th>\n      <th>SPF_exsit</th>\n      <th>DKIM_txt</th>\n      <th>DMARC_txt</th>\n      <th>EDV_process</th>\n      <th>dmarc_header</th>\n      <th>dkim_header</th>\n      <th>spf_header</th>\n      <th>rua</th>\n      <th>ruf</th>\n      <th>rua_with_edv_success</th>\n      <th>rua_with_edv_failure</th>\n      <th>rua_with_rewritting_edv</th>\n    </tr>\n    <tr>\n      <th>esp_label</th>\n      <th></th>\n      <th></th>\n      <th></th>\n      <th></th>\n      <th></th>\n      <th></th>\n      <th></th>\n      <th></th>\n      <th></th>\n      <th></th>\n      <th></th>\n      <th></th>\n      <th></th>\n      <th></th>\n    </tr>\n  </thead>\n  <tbody>\n    <tr>\n      <th>163com</th>\n      <td>163.com</td>\n      <td>True</td>\n      <td>False</td>\n      <td>True</td>\n      <td>True</td>\n      <td>False</td>\n      <td>False</td>\n      <td>True</td>\n      <td>True</td>\n      <td>False</td>\n      <td>False</td>\n      <td>None</td>\n      <td>None</td>\n      <td>None</td>\n    </tr>\n    <tr>\n      <th>fastmailcom</th>\n      <td>fastmail.com</td>\n      <td>True</td>\n      <td>True</td>\n      <td>True</td>\n      <td>True</td>\n      <td>True</td>\n      <td>True</td>\n      <td>True</td>\n      <td>True</td>\n      <td>True</td>\n      <td>False</td>\n      <td>True</td>\n      <td>True</td>\n      <td>True</td>\n    </tr>\n    <tr>\n      <th>freemailhu</th>\n      <td>freemail.hu</td>\n      <td>False</td>\n      <td>False</td>\n      <td>False</td>\n      <td>False</td>\n      <td>False</td>\n      <td>False</td>\n      <td>False</td>\n      <td>False</td>\n      <td>False</td>\n      <td>False</td>\n      <td>None</td>\n      <td>None</td>\n      <td>None</td>\n    </tr>\n    <tr>\n      <th>gmailcom</th>\n      <td>gmail.com</td>\n      <td>True</td>\n      <td>True</td>\n      <td>True</td>\n      <td>True</td>\n      <td>False</td>\n      <td>True</td>\n      <td>True</td>\n      <td>True</td>\n      <td>True</td>\n      <td>False</td>\n      <td>True</td>\n      <td>False</td>\n      <td>False</td>\n    </tr>\n    <tr>\n      <th>gmxnet</th>\n      <td>gmx.net</td>\n      <td>True</td>\n      <td>True</td>\n      <td>True</td>\n      <td>True</td>\n      <td>False</td>\n      <td>False</td>\n      <td>True</td>\n      <td>False</td>\n      <td>False</td>\n      <td>False</td>\n      <td>None</td>\n      <td>None</td>\n      <td>None</td>\n    </tr>\n    <tr>\n      <th>heycom</th>\n      <td>hey.com</td>\n      <td>True</td>\n      <td>True</td>\n      <td>True</td>\n      <td>True</td>\n      <td>False</td>\n      <td>True</td>\n      <td>True</td>\n      <td>True</td>\n      <td>False</td>\n      <td>False</td>\n      <td>None</td>\n      <td>None</td>\n      <td>None</td>\n    </tr>\n    <tr>\n      <th>inboxlv</th>\n      <td>inbox.lv</td>\n      <td>True</td>\n      <td>True</td>\n      <td>True</td>\n      <td>True</td>\n      <td>False</td>\n      <td>True</td>\n      <td>True</td>\n      <td>True</td>\n      <td>False</td>\n      <td>False</td>\n      <td>None</td>\n      <td>None</td>\n      <td>None</td>\n    </tr>\n    <tr>\n      <th>interiapl</th>\n      <td>interia.pl</td>\n      <td>True</td>\n      <td>True</td>\n      <td>True</td>\n      <td>True</td>\n      <td>False</td>\n      <td>False</td>\n      <td>False</td>\n      <td>False</td>\n      <td>False</td>\n      <td>False</td>\n      <td>None</td>\n      <td>None</td>\n      <td>None</td>\n    </tr>\n    <tr>\n      <th>kolabnowcom</th>\n      <td>kolabnow.com</td>\n      <td>True</td>\n      <td>True</td>\n      <td>True</td>\n      <td>False</td>\n      <td>False</td>\n      <td>False</td>\n      <td>True</td>\n      <td>False</td>\n      <td>False</td>\n      <td>False</td>\n      <td>None</td>\n      <td>None</td>\n      <td>None</td>\n    </tr>\n    <tr>\n      <th>lapostenet</th>\n      <td>laposte.net</td>\n      <td>True</td>\n      <td>True</td>\n      <td>True</td>\n      <td>True</td>\n      <td>True</td>\n      <td>True</td>\n      <td>True</td>\n      <td>True</td>\n      <td>False</td>\n      <td>False</td>\n      <td>None</td>\n      <td>None</td>\n      <td>None</td>\n    </tr>\n    <tr>\n      <th>mailcom</th>\n      <td>mail.com</td>\n      <td>True</td>\n      <td>True</td>\n      <td>True</td>\n      <td>True</td>\n      <td>False</td>\n      <td>False</td>\n      <td>True</td>\n      <td>False</td>\n      <td>False</td>\n      <td>False</td>\n      <td>None</td>\n      <td>None</td>\n      <td>None</td>\n    </tr>\n    <tr>\n      <th>mailru</th>\n      <td>mail.ru</td>\n      <td>True</td>\n      <td>True</td>\n      <td>True</td>\n      <td>True</td>\n      <td>True</td>\n      <td>True</td>\n      <td>True</td>\n      <td>True</td>\n      <td>True</td>\n      <td>False</td>\n      <td>True</td>\n      <td>True</td>\n      <td>False</td>\n    </tr>\n    <tr>\n      <th>mailfencecom</th>\n      <td>mailfence.com</td>\n      <td>True</td>\n      <td>True</td>\n      <td>True</td>\n      <td>True</td>\n      <td>False</td>\n      <td>False</td>\n      <td>False</td>\n      <td>False</td>\n      <td>False</td>\n      <td>False</td>\n      <td>None</td>\n      <td>None</td>\n      <td>None</td>\n    </tr>\n    <tr>\n      <th>navercom</th>\n      <td>naver.com</td>\n      <td>True</td>\n      <td>True</td>\n      <td>True</td>\n      <td>True</td>\n      <td>False</td>\n      <td>True</td>\n      <td>True</td>\n      <td>True</td>\n      <td>False</td>\n      <td>False</td>\n      <td>None</td>\n      <td>None</td>\n      <td>None</td>\n    </tr>\n    <tr>\n      <th>oppl</th>\n      <td>op.pl</td>\n      <td>True</td>\n      <td>True</td>\n      <td>True</td>\n      <td>True</td>\n      <td>True</td>\n      <td>True</td>\n      <td>True</td>\n      <td>True</td>\n      <td>False</td>\n      <td>False</td>\n      <td>None</td>\n      <td>None</td>\n      <td>None</td>\n    </tr>\n    <tr>\n      <th>orangefr</th>\n      <td>orange.fr</td>\n      <td>True</td>\n      <td>True</td>\n      <td>True</td>\n      <td>True</td>\n      <td>False</td>\n      <td>False</td>\n      <td>True</td>\n      <td>False</td>\n      <td>False</td>\n      <td>False</td>\n      <td>None</td>\n      <td>None</td>\n      <td>None</td>\n    </tr>\n    <tr>\n      <th>outlookcom</th>\n      <td>outlook.com</td>\n      <td>True</td>\n      <td>True</td>\n      <td>True</td>\n      <td>True</td>\n      <td>False</td>\n      <td>True</td>\n      <td>True</td>\n      <td>True</td>\n      <td>True</td>\n      <td>False</td>\n      <td>True</td>\n      <td>False</td>\n      <td>False</td>\n    </tr>\n    <tr>\n      <th>protonmailcom</th>\n      <td>protonmail.com</td>\n      <td>True</td>\n      <td>True</td>\n      <td>True</td>\n      <td>True</td>\n      <td>False</td>\n      <td>True</td>\n      <td>True</td>\n      <td>True</td>\n      <td>False</td>\n      <td>False</td>\n      <td>None</td>\n      <td>None</td>\n      <td>None</td>\n    </tr>\n    <tr>\n      <th>rediffcom</th>\n      <td>rediff.com</td>\n      <td>True</td>\n      <td>True</td>\n      <td>True</td>\n      <td>True</td>\n      <td>False</td>\n      <td>True</td>\n      <td>True</td>\n      <td>True</td>\n      <td>False</td>\n      <td>False</td>\n      <td>None</td>\n      <td>None</td>\n      <td>None</td>\n    </tr>\n    <tr>\n      <th>sapopt</th>\n      <td>sapo.pt</td>\n      <td>True</td>\n      <td>True</td>\n      <td>True</td>\n      <td>True</td>\n      <td>False</td>\n      <td>False</td>\n      <td>False</td>\n      <td>False</td>\n      <td>False</td>\n      <td>False</td>\n      <td>None</td>\n      <td>None</td>\n      <td>None</td>\n    </tr>\n    <tr>\n      <th>seznamcz</th>\n      <td>seznam.cz</td>\n      <td>True</td>\n      <td>True</td>\n      <td>True</td>\n      <td>True</td>\n      <td>False</td>\n      <td>False</td>\n      <td>False</td>\n      <td>False</td>\n      <td>True</td>\n      <td>False</td>\n      <td>True</td>\n      <td>False</td>\n      <td>False</td>\n    </tr>\n    <tr>\n      <th>tutanotacom</th>\n      <td>tutanota.com</td>\n      <td>True</td>\n      <td>True</td>\n      <td>True</td>\n      <td>True</td>\n      <td>False</td>\n      <td>True</td>\n      <td>True</td>\n      <td>False</td>\n      <td>False</td>\n      <td>False</td>\n      <td>None</td>\n      <td>None</td>\n      <td>None</td>\n    </tr>\n    <tr>\n      <th>yahoocom</th>\n      <td>yahoo.com</td>\n      <td>True</td>\n      <td>True</td>\n      <td>True</td>\n      <td>True</td>\n      <td>True</td>\n      <td>True</td>\n      <td>True</td>\n      <td>True</td>\n      <td>True</td>\n      <td>False</td>\n      <td>True</td>\n      <td>False</td>\n      <td>False</td>\n    </tr>\n    <tr>\n      <th>yandexcom</th>\n      <td>yandex.com</td>\n      <td>True</td>\n      <td>False</td>\n      <td>True</td>\n      <td>True</td>\n      <td>False</td>\n      <td>False</td>\n      <td>True</td>\n      <td>True</td>\n      <td>False</td>\n      <td>False</td>\n      <td>None</td>\n      <td>None</td>\n      <td>None</td>\n    </tr>\n    <tr>\n      <th>zohomaileu</th>\n      <td>zohomail.eu</td>\n      <td>True</td>\n      <td>True</td>\n      <td>True</td>\n      <td>True</td>\n      <td>False</td>\n      <td>True</td>\n      <td>True</td>\n      <td>True</td>\n      <td>False</td>\n      <td>False</td>\n      <td>None</td>\n      <td>None</td>\n      <td>None</td>\n    </tr>\n  </tbody>\n</table>\n</div>"
     },
     "execution_count": 5,
     "metadata": {},
     "output_type": "execute_result"
    }
   ],
   "source": [
    "with open(\"generated/reporting_feature\", 'r') as fp:\n",
    "    reporting_features = json.load(fp)\n",
    "\n",
    "df[\"rua\"] = df[\"esp_name\"].apply(lambda x : x in reporting_features[\"esp_sending_rua\"])\n",
    "df[\"ruf\"] = df[\"esp_name\"].apply(lambda x : x in reporting_features[\"esp_sending_ruf\"])\n",
    "df[\"rua_with_edv_success\"] = df[\"esp_name\"].apply(lambda x : x in reporting_features[\"esp_sending_rua\"] if x in reporting_features[\"esp_sending_rua\"] else None)\n",
    "df[\"rua_with_edv_failure\"] = df[\"esp_name\"].apply(lambda x : not x in reporting_features[\"esp_sending_rua_edv_failed\"] if x in reporting_features[\"esp_sending_rua\"] else None)\n",
    "df[\"rua_with_rewritting_edv\"] = df[\"esp_name\"].apply(lambda x : x in reporting_features[\"edv_rewritting_rua\"] if x in reporting_features[\"esp_sending_rua\"] else None)\n",
    "\n",
    "\n",
    "df = df.sort_values(by=['esp_name'], ascending=True)\n",
    "df"
   ],
   "metadata": {
    "collapsed": false,
    "ExecuteTime": {
     "end_time": "2024-06-15T10:40:13.496455515Z",
     "start_time": "2024-06-15T10:40:13.470941563Z"
    }
   },
   "id": "98adb9f2d6fbff6e"
  },
  {
   "cell_type": "code",
   "execution_count": 6,
   "outputs": [
    {
     "name": "stdout",
     "output_type": "stream",
     "text": [
      "['163com', 'fastmailcom', 'freemailhu', 'gmailcom', 'gmxnet', 'heycom', 'inboxlv', 'interiapl', 'kolabnowcom', 'lapostenet', 'mailcom', 'mailru', 'mailfencecom', 'navercom', 'oppl', 'orangefr', 'outlookcom', 'protonmailcom', 'rediffcom', 'sapopt', 'seznamcz', 'tutanotacom', 'yahoocom', 'yandexcom', 'zohomaileu']\n",
      "dict_keys(['esp_name', 'SPF_txt', 'SPF_exsit', 'DKIM_txt', 'DMARC_txt', 'EDV_process', 'dmarc_header', 'dkim_header', 'spf_header', 'rua', 'ruf', 'rua_with_edv_success', 'rua_with_edv_failure', 'rua_with_rewritting_edv'])\n"
     ]
    }
   ],
   "source": [
    "table_data = json.loads(df.to_json())\n",
    "table_key = list(table_data[\"esp_name\"].keys())\n",
    "print(table_key)\n",
    "print(table_data.keys())"
   ],
   "metadata": {
    "collapsed": false,
    "ExecuteTime": {
     "end_time": "2024-06-15T10:40:13.496666396Z",
     "start_time": "2024-06-15T10:40:13.483996756Z"
    }
   },
   "id": "78c7f0772068e35f"
  },
  {
   "cell_type": "markdown",
   "source": [
    "# Generate the LaTeX table from the datasets"
   ],
   "metadata": {
    "collapsed": false
   },
   "id": "f6252fb7e632f8cb"
  },
  {
   "cell_type": "code",
   "execution_count": 7,
   "outputs": [
    {
     "name": "stdout",
     "output_type": "stream",
     "text": [
      "% Python Script beginning here\n",
      "\\begin{tabular}{l|b{0.1cm}|b{0.1cm}|b{0.1cm}|b{0.1cm}|b{0.1cm}|b{0.1cm}|b{0.1cm}|b{0.1cm}|b{0.1cm}|b{0.1cm}|b{0.1cm}|b{0.1cm}|b{0.1cm}|b{0.1cm}|b{0.1cm}|b{0.1cm}|b{0.1cm}|b{0.1cm}|b{0.1cm}|b{0.1cm}|b{0.1cm}|b{0.1cm}|b{0.1cm}|b{0.1cm}|b{0.1cm}}\n",
      "\n",
      "Features & \\begin{turn}{90}163.com\\end{turn}  & \\begin{turn}{90}fastmail.com\\end{turn}  & \\begin{turn}{90}freemail.hu\\end{turn}  & \\begin{turn}{90}gmail.com\\end{turn}  & \\begin{turn}{90}gmx.net\\end{turn}  & \\begin{turn}{90}hey.com\\end{turn}  & \\begin{turn}{90}inbox.lv\\end{turn}  & \\begin{turn}{90}interia.pl\\end{turn}  & \\begin{turn}{90}kolabnow.com\\end{turn}  & \\begin{turn}{90}laposte.net\\end{turn}  & \\begin{turn}{90}mail.com\\end{turn}  & \\begin{turn}{90}mail.ru\\end{turn}  & \\begin{turn}{90}mailfence.com\\end{turn}  & \\begin{turn}{90}naver.com\\end{turn}  & \\begin{turn}{90}op.pl\\end{turn}  & \\begin{turn}{90}orange.fr\\end{turn}  & \\begin{turn}{90}outlook.com\\end{turn}  & \\begin{turn}{90}protonmail.com\\end{turn}  & \\begin{turn}{90}rediff.com\\end{turn}  & \\begin{turn}{90}sapo.pt\\end{turn}  & \\begin{turn}{90}seznam.cz\\end{turn}  & \\begin{turn}{90}tutanota.com\\end{turn}  & \\begin{turn}{90}yahoo.com\\end{turn}  & \\begin{turn}{90}yandex.com\\end{turn}  & \\begin{turn}{90}zohomail.eu\\end{turn}  \\\\ \\specialrule{1pt}{0pt}{0pt}  \n",
      " $F_{1}$ : $DMARC_{record}$ & {\\color{OliveGreen}\\checkmark} & {\\color{OliveGreen}\\checkmark} & {\\color{red}\\ding{55}} & {\\color{OliveGreen}\\checkmark} & {\\color{OliveGreen}\\checkmark} & {\\color{OliveGreen}\\checkmark} & {\\color{OliveGreen}\\checkmark} & {\\color{OliveGreen}\\checkmark} & {\\color{red}\\ding{55}} & {\\color{OliveGreen}\\checkmark} & {\\color{OliveGreen}\\checkmark} & {\\color{OliveGreen}\\checkmark} & {\\color{OliveGreen}\\checkmark} & {\\color{OliveGreen}\\checkmark} & {\\color{OliveGreen}\\checkmark} & {\\color{OliveGreen}\\checkmark} & {\\color{OliveGreen}\\checkmark} & {\\color{OliveGreen}\\checkmark} & {\\color{OliveGreen}\\checkmark} & {\\color{OliveGreen}\\checkmark} & {\\color{OliveGreen}\\checkmark} & {\\color{OliveGreen}\\checkmark} & {\\color{OliveGreen}\\checkmark} & {\\color{OliveGreen}\\checkmark} & {\\color{OliveGreen}\\checkmark}  \\\\[1ex] \n",
      "\\specialrule{0.5pt}{0pt}{0pt}  \n",
      " $F_{2}$ : $DMARC_{header}$ & {\\color{red}\\ding{55}} & {\\color{OliveGreen}\\checkmark} & {\\color{red}\\ding{55}} & {\\color{OliveGreen}\\checkmark} & {\\color{red}\\ding{55}} & {\\color{OliveGreen}\\checkmark} & {\\color{OliveGreen}\\checkmark} & {\\color{red}\\ding{55}} & {\\color{red}\\ding{55}} & {\\color{OliveGreen}\\checkmark} & {\\color{red}\\ding{55}} & {\\color{OliveGreen}\\checkmark} & {\\color{red}\\ding{55}} & {\\color{OliveGreen}\\checkmark} & {\\color{OliveGreen}\\checkmark} & {\\color{red}\\ding{55}} & {\\color{OliveGreen}\\checkmark} & {\\color{OliveGreen}\\checkmark} & {\\color{OliveGreen}\\checkmark} & {\\color{red}\\ding{55}} & {\\color{red}\\ding{55}} & {\\color{OliveGreen}\\checkmark} & {\\color{OliveGreen}\\checkmark} & {\\color{red}\\ding{55}} & {\\color{OliveGreen}\\checkmark}  \\\\[1ex] \n",
      "\\specialrule{0.5pt}{0pt}{0pt}  \n",
      " $F_{3}$ : $DMARC_{rua}$ & {\\color{red}\\ding{55}} & {\\color{OliveGreen}\\checkmark} & {\\color{red}\\ding{55}} & {\\color{OliveGreen}\\checkmark} & {\\color{red}\\ding{55}} & {\\color{red}\\ding{55}} & {\\color{red}\\ding{55}} & {\\color{red}\\ding{55}} & {\\color{red}\\ding{55}} & {\\color{red}\\ding{55}} & {\\color{red}\\ding{55}} & {\\color{OliveGreen}\\checkmark} & {\\color{red}\\ding{55}} & {\\color{red}\\ding{55}} & {\\color{red}\\ding{55}} & {\\color{red}\\ding{55}} & {\\color{OliveGreen}\\checkmark} & {\\color{red}\\ding{55}} & {\\color{red}\\ding{55}} & {\\color{red}\\ding{55}} & {\\color{OliveGreen}\\checkmark} & {\\color{red}\\ding{55}} & {\\color{OliveGreen}\\checkmark} & {\\color{red}\\ding{55}} & {\\color{red}\\ding{55}}  \\\\[1ex] \n",
      " $F_{4}$ : $DMARC_{ruf}$ & {\\color{red}\\ding{55}} & {\\color{red}\\ding{55}} & {\\color{red}\\ding{55}} & {\\color{red}\\ding{55}} & {\\color{red}\\ding{55}} & {\\color{red}\\ding{55}} & {\\color{red}\\ding{55}} & {\\color{red}\\ding{55}} & {\\color{red}\\ding{55}} & {\\color{red}\\ding{55}} & {\\color{red}\\ding{55}} & {\\color{red}\\ding{55}} & {\\color{red}\\ding{55}} & {\\color{red}\\ding{55}} & {\\color{red}\\ding{55}} & {\\color{red}\\ding{55}} & {\\color{red}\\ding{55}} & {\\color{red}\\ding{55}} & {\\color{red}\\ding{55}} & {\\color{red}\\ding{55}} & {\\color{red}\\ding{55}} & {\\color{red}\\ding{55}} & {\\color{red}\\ding{55}} & {\\color{red}\\ding{55}} & {\\color{red}\\ding{55}}  \\\\[1ex] \n",
      "\\specialrule{0.5pt}{0pt}{0pt}  \n",
      " $F_{5}$ : $EDV_{query}$ & {\\color{red}\\ding{55}} & {\\color{OliveGreen}\\checkmark} & {\\color{red}\\ding{55}} & {\\color{red}\\ding{55}} & {\\color{red}\\ding{55}} & {\\color{red}\\ding{55}} & {\\color{red}\\ding{55}} & {\\color{red}\\ding{55}} & {\\color{red}\\ding{55}} & {\\color{OliveGreen}\\checkmark} & {\\color{red}\\ding{55}} & {\\color{OliveGreen}\\checkmark} & {\\color{red}\\ding{55}} & {\\color{red}\\ding{55}} & {\\color{OliveGreen}\\checkmark} & {\\color{red}\\ding{55}} & {\\color{red}\\ding{55}} & {\\color{red}\\ding{55}} & {\\color{red}\\ding{55}} & {\\color{red}\\ding{55}} & {\\color{red}\\ding{55}} & {\\color{red}\\ding{55}} & {\\color{OliveGreen}\\checkmark} & {\\color{red}\\ding{55}} & {\\color{red}\\ding{55}}  \\\\[1ex] \n",
      " $F_{6}$ : $EDV_{control}$ & - & {\\color{OliveGreen}\\checkmark} & - & {\\color{OliveGreen}\\checkmark} & - & - & - & - & - & - & - & {\\color{OliveGreen}\\checkmark} & - & - & - & - & {\\color{OliveGreen}\\checkmark} & - & - & - & {\\color{OliveGreen}\\checkmark} & - & {\\color{OliveGreen}\\checkmark} & - & -  \\\\[1ex] \n",
      " $F_{7}$ : $EDV_{failure}$ & - & {\\color{OliveGreen}\\checkmark} & - & {\\color{red}\\ding{55}} & - & - & - & - & - & - & - & {\\color{OliveGreen}\\checkmark} & - & - & - & - & {\\color{red}\\ding{55}} & - & - & - & {\\color{red}\\ding{55}} & - & {\\color{red}\\ding{55}} & - & -  \\\\[1ex] \n",
      " $F_{8}$ : $EDV_{overwrite}$ & - & {\\color{OliveGreen}\\checkmark} & - & {\\color{red}\\ding{55}} & - & - & - & - & - & - & - & {\\color{red}\\ding{55}} & - & - & - & - & {\\color{red}\\ding{55}} & - & - & - & {\\color{red}\\ding{55}} & - & {\\color{red}\\ding{55}} & - & -  \\\\[1ex] \n",
      "\n",
      "\\specialrule{1pt}{0pt}{0pt} \n",
      "\\end{tabular}\n",
      "% Python Script ending here\n",
      "\n"
     ]
    }
   ],
   "source": [
    "def build_table(structure, table_data, builded_struct =\"\", translate={}, line_break_keys=[]):\n",
    "    res = \"% Python Script beginning here\\n\"\n",
    "    if builded_struct == \"\":\n",
    "        builded_struct = \"l|\"\n",
    "        for i in range(0, len(table_key)):\n",
    "            builded_struct += \"b{0.1cm}|\"\n",
    "\n",
    "        builded_struct = builded_struct[:-1]\n",
    "\n",
    "    res +=f\"\\\\begin{{tabular}}{{{builded_struct}}}\\n\\n\"\n",
    "    f = 0\n",
    "   \n",
    "    res += \"Features &\"\n",
    "    for k in table_key:\n",
    "        res += ' \\\\begin{turn}{90}' + f'{table_data[\"esp_name\"][k]}' + '\\\\end{turn}  &'\n",
    "        \n",
    "    res = res[:-1] + \"\\\\\\\\ \\\\specialrule{1pt}{0pt}{0pt}  \\n\"\n",
    "\n",
    "    feature_no = 1\n",
    "    for f in structure:\n",
    "        res += f' $F_{{{feature_no}}}$ : {translate.get(f, f)} &'\n",
    "        feature_no += 1\n",
    "        for k in table_key:\n",
    "            res += f' {table_data[f][k]} &'\n",
    "        \n",
    "        res = res[:-1] + ' \\\\\\\\[1ex] \\n'\n",
    "        \n",
    "        if f in line_break_keys:\n",
    "            res += '\\specialrule{0.5pt}{0pt}{0pt}  \\n'\n",
    "       \n",
    "    \n",
    "    res +=\"\\n\\\\specialrule{1pt}{0pt}{0pt} \\n\\\\end{tabular}\\n\"\n",
    "    res +=  \"% Python Script ending here\\n\"\n",
    "    return res\n",
    "\n",
    "\n",
    "\n",
    "trad_tex = {\n",
    "    'SPF_txt':'$SPF_{record_{txt}}$', \n",
    "    'SPF_exsit':'$SPF_{record_{a}}$', \n",
    "    'DKIM_txt':'$DKIM_{record}$', \n",
    "    'DMARC_txt':'$DMARC_{record}$', \n",
    "    'EDV_process':'$EDV_{query}$', \n",
    "    'dmarc_header':'$DMARC_{header}$', \n",
    "    'dkim_header':'$DKIM_{header}$', \n",
    "    'spf_header':'$SPF_{header}', \n",
    "    'rua':'$DMARC_{rua}$', \n",
    "    'ruf':\"$DMARC_{ruf}$\", \n",
    "    'rua_with_edv_success':'$EDV_{control}$', \n",
    "    'rua_with_edv_failure':'$EDV_{failure}$', \n",
    "    'rua_with_rewritting_edv':'$EDV_{overwrite}$'\n",
    "    \n",
    "}\n",
    "\n",
    "\n",
    "# december_sumbission_structure = ['SPF_txt', 'SPF_exsit', 'DKIM_txt', 'DMARC_txt', 'spf_header', 'dkim_header', 'dmarc_header'  , 'rua', 'ruf', 'EDV_process', 'rua_with_edv_success', 'rua_with_edv_failure', 'rua_with_rewritting_edv']\n",
    "\n",
    "structure = ['DMARC_txt', 'dmarc_header'  , 'rua', 'ruf', 'EDV_process', 'rua_with_edv_success', 'rua_with_edv_failure', 'rua_with_rewritting_edv']\n",
    "\n",
    "\n",
    "latex_table = build_table(structure=structure, table_data=table_data, translate=trad_tex, line_break_keys=[\"DMARC_txt\", \"dmarc_header\", \"ruf\"])\n",
    "latex_table = latex_table.replace(\"True\", \"{\\\\color{OliveGreen}\\\\checkmark}\")\n",
    "latex_table = latex_table.replace(\"False\", \"{\\\\color{red}\\\\ding{55}}\")\n",
    "latex_table = latex_table.replace(\"None\", \"-\")\n",
    "print(latex_table)\n",
    "\n",
    "with open(\"dmarc_features_table.tex\", 'w') as fp:\n",
    "    fp.write(latex_table)\n",
    "\n"
   ],
   "metadata": {
    "collapsed": false,
    "ExecuteTime": {
     "end_time": "2024-06-15T10:40:13.496815871Z",
     "start_time": "2024-06-15T10:40:13.484240892Z"
    }
   },
   "id": "503fcdc26abc5d38"
  }
 ],
 "metadata": {
  "kernelspec": {
   "display_name": "Python 3",
   "language": "python",
   "name": "python3"
  },
  "language_info": {
   "codemirror_mode": {
    "name": "ipython",
    "version": 2
   },
   "file_extension": ".py",
   "mimetype": "text/x-python",
   "name": "python",
   "nbconvert_exporter": "python",
   "pygments_lexer": "ipython2",
   "version": "2.7.6"
  }
 },
 "nbformat": 4,
 "nbformat_minor": 5
}
